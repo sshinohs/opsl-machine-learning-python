{
 "cells": [
  {
   "cell_type": "code",
   "execution_count": 2,
   "id": "b5c3c62a",
   "metadata": {},
   "outputs": [],
   "source": [
    "import os"
   ]
  },
  {
   "cell_type": "code",
   "execution_count": 1,
   "id": "fd9349d0",
   "metadata": {},
   "outputs": [],
   "source": [
    "def path_ds(dir_path):\n",
    "    file_list_temp = os.listdir(dir_path)\n",
    "    file_path_list = []\n",
    "    for file_name in file_list_temp:\n",
    "        if \".txt\" in file_name:\n",
    "            file_path = os.path.join(dir_path, file_name)\n",
    "            file_path_list.append(file_path)\n",
    "    \n",
    "    file_path_list.sort()\n",
    "    \n",
    "    return file_path_list"
   ]
  }
 ],
 "metadata": {
  "kernelspec": {
   "display_name": "Python 3 (Notebook)",
   "language": "python",
   "name": "python3"
  },
  "language_info": {
   "codemirror_mode": {
    "name": "ipython",
    "version": 3
   },
   "file_extension": ".py",
   "mimetype": "text/x-python",
   "name": "python",
   "nbconvert_exporter": "python",
   "pygments_lexer": "ipython3",
   "version": "3.8.10"
  }
 },
 "nbformat": 4,
 "nbformat_minor": 5
}
