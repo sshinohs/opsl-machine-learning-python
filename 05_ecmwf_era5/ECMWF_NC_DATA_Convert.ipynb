{
 "cells": [
  {
   "cell_type": "code",
   "execution_count": 8,
   "id": "3e8787f1",
   "metadata": {},
   "outputs": [],
   "source": [
    "# Netcdf 파일 불러오기를 위한 라이브러리 호출\n",
    "\n",
    "from netCDF4 import Dataset\n",
    "from netCDF4 import num2date\n",
    "from datetime import datetime\n",
    "\n",
    "import os\n",
    "import datetime as dt\n",
    "import time\n",
    "\n",
    "# To handle the dataframe\n",
    "import numpy as np\n",
    "import pandas as pd\n",
    "\n",
    "# To plot\n",
    "from matplotlib import pyplot as plt\n",
    "import matplotlib.pylab as pylab\n",
    "import seaborn as sns\n",
    "\n",
    "# Machine learning library and API\n",
    "import sklearn as sk\n",
    "import warnings\n"
   ]
  },
  {
   "cell_type": "markdown",
   "id": "f2de514f",
   "metadata": {},
   "source": [
    "##  파일 경로 설정 및 불러오기"
   ]
  },
  {
   "cell_type": "code",
   "execution_count": 9,
   "id": "61577665",
   "metadata": {},
   "outputs": [
    {
     "name": "stdout",
     "output_type": "stream",
     "text": [
      "file_list: ['ham.nc', '05_01_ecmwf_era5.ipynb', 'ECMWF_NC_DATA_Convert.ipynb', 'new.nc', '2020a.nc', 'tak_test.nc', '.ipynb_checkpoints']\n"
     ]
    }
   ],
   "source": [
    "# 파일 경로 설정\n",
    "\n",
    "# path = \"./Barents_72_5N_43_5W/NC_File/\"\n",
    "path = \"./\"\n",
    "file_list = os.listdir(path)\n",
    "\n",
    "print(\"file_list: {}\".format(file_list))"
   ]
  },
  {
   "cell_type": "code",
   "execution_count": 10,
   "id": "c7d21f58",
   "metadata": {},
   "outputs": [],
   "source": [
    "# file_path_ecmwf = path+file_list[1]"
   ]
  },
  {
   "cell_type": "code",
   "execution_count": 14,
   "id": "bab2aa5d",
   "metadata": {},
   "outputs": [],
   "source": [
    "file_path_ecmwf = path+file_list[3]"
   ]
  },
  {
   "cell_type": "code",
   "execution_count": 15,
   "id": "5ff5cc49",
   "metadata": {},
   "outputs": [
    {
     "data": {
      "text/plain": [
       "'./new.nc'"
      ]
     },
     "execution_count": 15,
     "metadata": {},
     "output_type": "execute_result"
    }
   ],
   "source": [
    "file_path_ecmwf"
   ]
  },
  {
   "cell_type": "code",
   "execution_count": 16,
   "id": "357525b2",
   "metadata": {},
   "outputs": [],
   "source": [
    "# Dataset : 파일 로드\n",
    "ecmwf = Dataset(file_path_ecmwf)"
   ]
  },
  {
   "cell_type": "code",
   "execution_count": 17,
   "id": "504799bd",
   "metadata": {},
   "outputs": [
    {
     "name": "stdout",
     "output_type": "stream",
     "text": [
      "dict_keys(['time', 'lon', 'lat', 'lon_2', 'lat_2', 'u10n', '10u', 'v10n', '10v', 'mdww', 'mpww', 'mwd', 'mwp', 'pp1d', 'swh'])\n"
     ]
    }
   ],
   "source": [
    "print(ecmwf.variables.keys())"
   ]
  },
  {
   "cell_type": "markdown",
   "id": "b912a6ec",
   "metadata": {},
   "source": [
    "## 변수 지정"
   ]
  },
  {
   "cell_type": "code",
   "execution_count": 19,
   "id": "1ce76a24",
   "metadata": {},
   "outputs": [],
   "source": [
    "# Time and location \n",
    "date = ecmwf.variables['time'][:]  # Hourly data\n",
    "lon = ecmwf.variables['lon'][:]   # 파랑 데이터 말고 나머지 데이터의 위/경도 0.25deg x 0.25deg (s)\n",
    "lat = ecmwf.variables['lat'][:]   # 파랑 데이터 말고 나머지 데이터의 위/경도\n",
    "\n",
    "lon2 = ecmwf.variables['lon_2'][:] # 파랑 데이터의 위/경도  0.5deg x 0.5deg (ocean waves)\n",
    "lat2 = ecmwf.variables['lat_2'][:] # 파랑 데이터의 위/경도\n",
    "\n",
    "# Wind parameters\n",
    "wu = ecmwf.variables['10u'][:]  # wind speed(u) 10m above sea surface (moving towards the east)\n",
    "wv = ecmwf.variables['10v'][:]  # wind speed(v) 10m above sea surface (moving towards the east)\n",
    "\n",
    "# Wave parameters\n",
    "pwp = ecmwf.variables['pp1d'][:]  # peak wave period\n",
    "swh = ecmwf.variables['swh'][:]   # significant wave height by wind + swell\n",
    "# shww = ecmwf.variables['shww'][:] # significant wave height by wind\n",
    "mwd = ecmwf.variables['mwd'][:]  # mean wave direction\n",
    "\n",
    "# warnings.deprecationwarning(\"ignore\")"
   ]
  },
  {
   "cell_type": "code",
   "execution_count": 20,
   "id": "b4c519dd",
   "metadata": {},
   "outputs": [
    {
     "data": {
      "text/plain": [
       "(8784, 3, 3)"
      ]
     },
     "execution_count": 20,
     "metadata": {},
     "output_type": "execute_result"
    }
   ],
   "source": [
    "swh.shape"
   ]
  },
  {
   "cell_type": "code",
   "execution_count": 21,
   "id": "6bd159af",
   "metadata": {},
   "outputs": [
    {
     "data": {
      "text/plain": [
       "4.9472284"
      ]
     },
     "execution_count": 21,
     "metadata": {},
     "output_type": "execute_result"
    }
   ],
   "source": [
    "swh[2500,1,1]"
   ]
  },
  {
   "cell_type": "code",
   "execution_count": 23,
   "id": "a71983bd",
   "metadata": {},
   "outputs": [
    {
     "data": {
      "text/plain": [
       "(8784, 3, 3)"
      ]
     },
     "execution_count": 23,
     "metadata": {},
     "output_type": "execute_result"
    }
   ],
   "source": [
    "swh.shape"
   ]
  },
  {
   "cell_type": "code",
   "execution_count": 22,
   "id": "932900cf",
   "metadata": {},
   "outputs": [
    {
     "data": {
      "text/plain": [
       "[<matplotlib.lines.Line2D at 0x7f6adf904e80>]"
      ]
     },
     "execution_count": 22,
     "metadata": {},
     "output_type": "execute_result"
    },
    {
     "data": {
      "image/png": "[encoded data removed]",
      "text/plain": [
       "<Figure size 432x288 with 1 Axes>"
      ]
     },
     "metadata": {
      "needs_background": "light"
     },
     "output_type": "display_data"
    }
   ],
   "source": [
    "plt.plot(swh[:,1,1])"
   ]
  },
  {
   "cell_type": "code",
   "execution_count": 11,
   "id": "9fe4b119",
   "metadata": {},
   "outputs": [],
   "source": [
    "# np.save('lon',lon.data)\n",
    "# np.save('lat',lat.data)\n",
    "# np.save('lon2',lon2.data)\n",
    "# np.save('lat2',lat2.data)"
   ]
  },
  {
   "cell_type": "code",
   "execution_count": 24,
   "id": "b203ab84",
   "metadata": {
    "scrolled": true
   },
   "outputs": [
    {
     "data": {
      "text/plain": [
       "(8784,)"
      ]
     },
     "execution_count": 24,
     "metadata": {},
     "output_type": "execute_result"
    }
   ],
   "source": [
    "time = ecmwf.variables['time']\n",
    "time_greg = num2date(time[:].data, time.units)\n",
    "time_greg.shape"
   ]
  },
  {
   "cell_type": "code",
   "execution_count": 13,
   "id": "4a90eed6",
   "metadata": {},
   "outputs": [
    {
     "name": "stderr",
     "output_type": "stream",
     "text": [
      "C:\\Users\\USER\\AppData\\Local\\Temp/ipykernel_29240/3356683023.py:10: DeprecationWarning: `np.bool` is a deprecated alias for the builtin `bool`. To silence this warning, use `bool` by itself. Doing this will not modify any behavior and is safe. If you specifically wanted the numpy scalar type, use `np.bool_` here.\n",
      "Deprecated in NumPy 1.20; for more details and guidance: https://numpy.org/devdocs/release/1.20.0-notes.html#deprecations\n",
      "  wu  = np.append(wu, ecmwf.variables['10u'][:], axis=0)\n",
      "C:\\Users\\USER\\AppData\\Local\\Temp/ipykernel_29240/3356683023.py:11: DeprecationWarning: `np.bool` is a deprecated alias for the builtin `bool`. To silence this warning, use `bool` by itself. Doing this will not modify any behavior and is safe. If you specifically wanted the numpy scalar type, use `np.bool_` here.\n",
      "Deprecated in NumPy 1.20; for more details and guidance: https://numpy.org/devdocs/release/1.20.0-notes.html#deprecations\n",
      "  wv  = np.append(wv, ecmwf.variables['10v'][:], axis=0)\n",
      "C:\\Users\\USER\\AppData\\Local\\Temp/ipykernel_29240/3356683023.py:14: DeprecationWarning: `np.bool` is a deprecated alias for the builtin `bool`. To silence this warning, use `bool` by itself. Doing this will not modify any behavior and is safe. If you specifically wanted the numpy scalar type, use `np.bool_` here.\n",
      "Deprecated in NumPy 1.20; for more details and guidance: https://numpy.org/devdocs/release/1.20.0-notes.html#deprecations\n",
      "  swh  = np.append(swh, ecmwf.variables['swh'][:], axis=0)\n",
      "C:\\Users\\USER\\AppData\\Local\\Temp/ipykernel_29240/3356683023.py:15: DeprecationWarning: `np.bool` is a deprecated alias for the builtin `bool`. To silence this warning, use `bool` by itself. Doing this will not modify any behavior and is safe. If you specifically wanted the numpy scalar type, use `np.bool_` here.\n",
      "Deprecated in NumPy 1.20; for more details and guidance: https://numpy.org/devdocs/release/1.20.0-notes.html#deprecations\n",
      "  mwd  = np.append(mwd, ecmwf.variables['mwd'][:], axis=0)\n",
      "C:\\Users\\USER\\AppData\\Local\\Temp/ipykernel_29240/3356683023.py:16: DeprecationWarning: `np.bool` is a deprecated alias for the builtin `bool`. To silence this warning, use `bool` by itself. Doing this will not modify any behavior and is safe. If you specifically wanted the numpy scalar type, use `np.bool_` here.\n",
      "Deprecated in NumPy 1.20; for more details and guidance: https://numpy.org/devdocs/release/1.20.0-notes.html#deprecations\n",
      "  pwp = np.append(pwp, ecmwf.variables['pp1d'][:], axis=0)\n",
      "C:\\Users\\USER\\AppData\\Local\\Temp/ipykernel_29240/3356683023.py:17: DeprecationWarning: `np.bool` is a deprecated alias for the builtin `bool`. To silence this warning, use `bool` by itself. Doing this will not modify any behavior and is safe. If you specifically wanted the numpy scalar type, use `np.bool_` here.\n",
      "Deprecated in NumPy 1.20; for more details and guidance: https://numpy.org/devdocs/release/1.20.0-notes.html#deprecations\n",
      "  shww = np.append(shww, ecmwf.variables['shww'][:], axis=0)\n",
      "C:\\Users\\USER\\AppData\\Local\\Temp/ipykernel_29240/3356683023.py:21: DeprecationWarning: `np.bool` is a deprecated alias for the builtin `bool`. To silence this warning, use `bool` by itself. Doing this will not modify any behavior and is safe. If you specifically wanted the numpy scalar type, use `np.bool_` here.\n",
      "Deprecated in NumPy 1.20; for more details and guidance: https://numpy.org/devdocs/release/1.20.0-notes.html#deprecations\n",
      "  time_greg = np.append(time_greg, num2date(time_temp[:].data, time_temp.units),axis=0)\n",
      "C:\\Users\\USER\\AppData\\Local\\Temp/ipykernel_29240/3356683023.py:21: DeprecationWarning: tostring() is deprecated. Use tobytes() instead.\n",
      "  time_greg = np.append(time_greg, num2date(time_temp[:].data, time_temp.units),axis=0)\n"
     ]
    }
   ],
   "source": [
    "# 전체 dataset에 대해 불러오기 \n",
    "\n",
    "for fn_temp in file_list[1:42]:   # 1:42 : 1980 - 2020\n",
    "    file_path_ecmwf = path + fn_temp\n",
    "#     print(file_path_ecmwf)\n",
    "    ecmwf = Dataset(file_path_ecmwf)\n",
    "#     print (swh.shape)\n",
    "    \n",
    "    # wind parameters\n",
    "    wu  = np.append(wu, ecmwf.variables['10u'][:], axis=0)\n",
    "    wv  = np.append(wv, ecmwf.variables['10v'][:], axis=0)\n",
    "    \n",
    "    # wave parameters\n",
    "    swh  = np.append(swh, ecmwf.variables['swh'][:], axis=0)\n",
    "    mwd  = np.append(mwd, ecmwf.variables['mwd'][:], axis=0)\n",
    "    pwp = np.append(pwp, ecmwf.variables['pp1d'][:], axis=0)\n",
    "    shww = np.append(shww, ecmwf.variables['shww'][:], axis=0)\n",
    "    \n",
    "\n",
    "    time_temp = ecmwf.variables['time']\n",
    "    time_greg = np.append(time_greg, num2date(time_temp[:].data, time_temp.units),axis=0)\n",
    "\n",
    "\n",
    "    "
   ]
  },
  {
   "cell_type": "code",
   "execution_count": 14,
   "id": "fa668cd8",
   "metadata": {
    "scrolled": true
   },
   "outputs": [
    {
     "data": {
      "text/plain": [
       "(336936,)"
      ]
     },
     "execution_count": 14,
     "metadata": {},
     "output_type": "execute_result"
    }
   ],
   "source": [
    "time_greg.shape"
   ]
  },
  {
   "cell_type": "code",
   "execution_count": 15,
   "id": "f3624934",
   "metadata": {},
   "outputs": [
    {
     "name": "stdout",
     "output_type": "stream",
     "text": [
      "[cftime.DatetimeGregorian(1979, 1, 1, 0, 0, 0, 0)\n",
      " cftime.DatetimeGregorian(1979, 1, 1, 1, 0, 0, 0)\n",
      " cftime.DatetimeGregorian(1979, 1, 1, 2, 0, 0, 0) ...\n",
      " cftime.DatetimeGregorian(2020, 11, 30, 21, 0, 0, 0)\n",
      " cftime.DatetimeGregorian(2020, 11, 30, 22, 0, 0, 0)\n",
      " cftime.DatetimeGregorian(2020, 11, 30, 23, 0, 0, 0)]\n"
     ]
    }
   ],
   "source": [
    "print(time_greg)"
   ]
  },
  {
   "cell_type": "code",
   "execution_count": 26,
   "id": "80f0089f",
   "metadata": {},
   "outputs": [
    {
     "data": {
      "text/plain": [
       "[<matplotlib.lines.Line2D at 0x7f6adc26f6a0>]"
      ]
     },
     "execution_count": 26,
     "metadata": {},
     "output_type": "execute_result"
    },
    {
     "name": "stderr",
     "output_type": "stream",
     "text": [
      "/usr/local/lib/python3.8/dist-packages/IPython/core/pylabtools.py:151: UserWarning: Glyph 8722 (\\N{MINUS SIGN}) missing from current font.\n",
      "  fig.canvas.print_figure(bytes_io, **kw)\n"
     ]
    },
    {
     "data": {
      "image/png": "[encoded data removed]",
      "text/plain": [
       "<Figure size 432x288 with 1 Axes>"
      ]
     },
     "metadata": {
      "needs_background": "light"
     },
     "output_type": "display_data"
    }
   ],
   "source": [
    "plt.plot(wu[:,2,2])  # [2 2] 72.5N 43.5W"
   ]
  },
  {
   "cell_type": "code",
   "execution_count": 27,
   "id": "058df055",
   "metadata": {},
   "outputs": [
    {
     "data": {
      "text/plain": [
       "[<matplotlib.lines.Line2D at 0x7f6adf0ecdc0>]"
      ]
     },
     "execution_count": 27,
     "metadata": {},
     "output_type": "execute_result"
    },
    {
     "name": "stderr",
     "output_type": "stream",
     "text": [
      "/usr/local/lib/python3.8/dist-packages/IPython/core/pylabtools.py:151: UserWarning: Glyph 8722 (\\N{MINUS SIGN}) missing from current font.\n",
      "  fig.canvas.print_figure(bytes_io, **kw)\n"
     ]
    },
    {
     "data": {
      "image/png": "[encoded data removed]",
      "text/plain": [
       "<Figure size 432x288 with 1 Axes>"
      ]
     },
     "metadata": {
      "needs_background": "light"
     },
     "output_type": "display_data"
    }
   ],
   "source": [
    "plt.plot(wv[:,2,2]) # [2 2] 72.5N 43.5W"
   ]
  },
  {
   "cell_type": "code",
   "execution_count": 18,
   "id": "633e2778",
   "metadata": {},
   "outputs": [],
   "source": [
    "# wind direction u,v to degree\n",
    "# wd = np.arctan2(wu.data, wv.data)/np.pi*180+180"
   ]
  },
  {
   "cell_type": "code",
   "execution_count": 19,
   "id": "62d5b974",
   "metadata": {},
   "outputs": [],
   "source": [
    "# metocean data save\n",
    "# np.save('wu', wu.data)\n",
    "# np.save('wv', wv.data)\n",
    "\n",
    "# np.save('wd', wd)\n",
    "# np.save('swh',swh.data)\n",
    "# np.save('mwd',mwd.data)\n",
    "# np.save('pwp', pwp.data)\n",
    "# np.save('shww',shww.data)\n",
    "# np.save('time_greg',time_greg.data)"
   ]
  },
  {
   "cell_type": "code",
   "execution_count": 20,
   "id": "d035760e",
   "metadata": {},
   "outputs": [],
   "source": [
    "# np.save('time_greg',time_greg)"
   ]
  },
  {
   "cell_type": "code",
   "execution_count": 21,
   "id": "2a77b29d",
   "metadata": {},
   "outputs": [
    {
     "data": {
      "text/plain": [
       "array([cftime.DatetimeGregorian(1979, 1, 1, 0, 0, 0, 0),\n",
       "       cftime.DatetimeGregorian(1979, 1, 1, 1, 0, 0, 0),\n",
       "       cftime.DatetimeGregorian(1979, 1, 1, 2, 0, 0, 0),\n",
       "       cftime.DatetimeGregorian(1979, 1, 1, 3, 0, 0, 0),\n",
       "       cftime.DatetimeGregorian(1979, 1, 1, 4, 0, 0, 0)], dtype=object)"
      ]
     },
     "execution_count": 21,
     "metadata": {},
     "output_type": "execute_result"
    }
   ],
   "source": [
    "time_greg[:5]"
   ]
  },
  {
   "cell_type": "code",
   "execution_count": 22,
   "id": "07fd7d0b",
   "metadata": {},
   "outputs": [],
   "source": [
    "# for tg in time_greg[:5]:\n",
    "#     print(tg.year)\n",
    "#     print(tg.month)\n",
    "#     print(tg.day)\n",
    "#     print(tg.hour)"
   ]
  },
  {
   "cell_type": "markdown",
   "id": "8996106a",
   "metadata": {},
   "source": [
    "## 시간 자료 형식 변경"
   ]
  },
  {
   "cell_type": "code",
   "execution_count": 28,
   "id": "a5c32b73",
   "metadata": {},
   "outputs": [],
   "source": [
    "time_year = []\n",
    "time_month = []\n",
    "time_day = []\n",
    "time_hour = []"
   ]
  },
  {
   "cell_type": "code",
   "execution_count": 29,
   "id": "8b1abb1c",
   "metadata": {},
   "outputs": [],
   "source": [
    "for tg in time_greg:\n",
    "    time_year.append(tg.year)\n",
    "    time_month.append(tg.month)\n",
    "    time_day.append(tg.day)\n",
    "    time_hour.append(tg.hour)"
   ]
  },
  {
   "cell_type": "code",
   "execution_count": 30,
   "id": "269405fd",
   "metadata": {},
   "outputs": [],
   "source": [
    "datetime_ECMWF = []"
   ]
  },
  {
   "cell_type": "code",
   "execution_count": 31,
   "id": "c7a20c15",
   "metadata": {},
   "outputs": [],
   "source": [
    "for tg in time_greg:\n",
    "    datetime_ECMWF.append([tg.year, tg.month, tg.day, tg.hour])"
   ]
  },
  {
   "cell_type": "code",
   "execution_count": 32,
   "id": "8e16fefa",
   "metadata": {},
   "outputs": [
    {
     "data": {
      "text/plain": [
       "8784"
      ]
     },
     "execution_count": 32,
     "metadata": {},
     "output_type": "execute_result"
    }
   ],
   "source": [
    "len(time_year)"
   ]
  },
  {
   "cell_type": "code",
   "execution_count": 28,
   "id": "99340a76",
   "metadata": {},
   "outputs": [],
   "source": [
    "import pickle"
   ]
  },
  {
   "cell_type": "code",
   "execution_count": 29,
   "id": "927930f2",
   "metadata": {},
   "outputs": [],
   "source": [
    "with open(\"datetime.pickle\",\"wb\") as fw:\n",
    "    pickle.dump(datetime_ECMWF, fw)"
   ]
  },
  {
   "cell_type": "markdown",
   "id": "ac30b6a4",
   "metadata": {},
   "source": [
    "## Data_time and Wind parameter 변경"
   ]
  },
  {
   "cell_type": "code",
   "execution_count": 34,
   "id": "cf57d649",
   "metadata": {},
   "outputs": [],
   "source": [
    "#Date_time type 변경  (yyyy-mm-dd mm:ss)\n",
    "\n",
    "Date_time = time_greg.astype('datetime64[s]')"
   ]
  },
  {
   "cell_type": "code",
   "execution_count": 35,
   "id": "e4c65c5c",
   "metadata": {},
   "outputs": [
    {
     "data": {
      "text/plain": [
       "array(['1980-01-01T00:00:00', '1980-01-01T01:00:00',\n",
       "       '1980-01-01T02:00:00', ..., '1980-12-31T21:00:00',\n",
       "       '1980-12-31T22:00:00', '1980-12-31T23:00:00'],\n",
       "      dtype='datetime64[s]')"
      ]
     },
     "execution_count": 35,
     "metadata": {},
     "output_type": "execute_result"
    }
   ],
   "source": [
    "Date_time"
   ]
  },
  {
   "cell_type": "code",
   "execution_count": 32,
   "id": "3997cbc4",
   "metadata": {},
   "outputs": [],
   "source": [
    "# Wind parameter modified : wind speen and wind direction\n",
    "\n",
    "ws = np.sqrt(wu.data**2+wv.data**2)                # wind speed (m/s)\n",
    "wd = np.arctan2(wu.data, wv.data)/np.pi*180+180   # wind direction(deg)"
   ]
  },
  {
   "cell_type": "markdown",
   "id": "e31d616e",
   "metadata": {},
   "source": [
    "## 원하는 위치의 Lon, Lat 로 데이터 추출"
   ]
  },
  {
   "cell_type": "code",
   "execution_count": 33,
   "id": "af9946dd",
   "metadata": {
    "scrolled": true
   },
   "outputs": [
    {
     "name": "stdout",
     "output_type": "stream",
     "text": [
      "(5,)\n"
     ]
    },
    {
     "data": {
      "text/plain": [
       "masked_array(data=[43.  , 43.25, 43.5 , 43.75, 44.  ],\n",
       "             mask=False,\n",
       "       fill_value=1e+20,\n",
       "            dtype=float32)"
      ]
     },
     "execution_count": 33,
     "metadata": {},
     "output_type": "execute_result"
    }
   ],
   "source": [
    "print(lon.shape)  # [2] = 43.5W\n",
    "lon"
   ]
  },
  {
   "cell_type": "code",
   "execution_count": 34,
   "id": "a40494d9",
   "metadata": {},
   "outputs": [
    {
     "name": "stdout",
     "output_type": "stream",
     "text": [
      "(5,)\n"
     ]
    },
    {
     "data": {
      "text/plain": [
       "masked_array(data=[73.  , 72.75, 72.5 , 72.25, 72.  ],\n",
       "             mask=False,\n",
       "       fill_value=1e+20,\n",
       "            dtype=float32)"
      ]
     },
     "execution_count": 34,
     "metadata": {},
     "output_type": "execute_result"
    }
   ],
   "source": [
    "print(lat.shape)  # [2] = 72.5N\n",
    "lat"
   ]
  },
  {
   "cell_type": "code",
   "execution_count": 35,
   "id": "5ad5a5da",
   "metadata": {
    "scrolled": true
   },
   "outputs": [
    {
     "name": "stdout",
     "output_type": "stream",
     "text": [
      "(3,)\n"
     ]
    },
    {
     "data": {
      "text/plain": [
       "masked_array(data=[43. , 43.5, 44. ],\n",
       "             mask=False,\n",
       "       fill_value=1e+20,\n",
       "            dtype=float32)"
      ]
     },
     "execution_count": 35,
     "metadata": {},
     "output_type": "execute_result"
    }
   ],
   "source": [
    "print(lon2.shape) # [1] 43.5W\n",
    "lon2"
   ]
  },
  {
   "cell_type": "code",
   "execution_count": 36,
   "id": "979ba838",
   "metadata": {},
   "outputs": [
    {
     "name": "stdout",
     "output_type": "stream",
     "text": [
      "(3,)\n"
     ]
    },
    {
     "data": {
      "text/plain": [
       "masked_array(data=[73. , 72.5, 72. ],\n",
       "             mask=False,\n",
       "       fill_value=1e+20,\n",
       "            dtype=float32)"
      ]
     },
     "execution_count": 36,
     "metadata": {},
     "output_type": "execute_result"
    }
   ],
   "source": [
    "print(lat2.shape)  # [1] 72.5N\n",
    "lat2"
   ]
  },
  {
   "cell_type": "code",
   "execution_count": 37,
   "id": "0e2a68db",
   "metadata": {},
   "outputs": [],
   "source": [
    "# 원하는 위치 선정 wind data\n",
    "lo = 2 # 43.5\n",
    "la = 2  ## 72.5"
   ]
  },
  {
   "cell_type": "code",
   "execution_count": 38,
   "id": "c0f0e8f2",
   "metadata": {},
   "outputs": [],
   "source": [
    "# 원하는 위치 선정 wave data\n",
    "low = 1 # 43.5\n",
    "law = 1  ## 72.5"
   ]
  },
  {
   "cell_type": "code",
   "execution_count": 39,
   "id": "2222af76",
   "metadata": {},
   "outputs": [],
   "source": [
    "# data stack (datetime, wu, wv, ws,wd,swh,pwp, mwd, shww)\n",
    "Metdata = np.stack((wu[:,lo,la],wv[:,lo,la],\n",
    "                   ws[:,lo,la],wd[:,lo,la],swh[:,low,law],pwp[:,low,law],mwd[:,low,law],shww[:,low,law]),axis=1)"
   ]
  },
  {
   "cell_type": "code",
   "execution_count": 40,
   "id": "239a6eab",
   "metadata": {},
   "outputs": [],
   "source": [
    "BS_data = pd.DataFrame(Metdata, columns = ['wu', 'wv', 'ws', 'wd', 'swh', 'pwp', 'mwd', 'shww'])"
   ]
  },
  {
   "cell_type": "code",
   "execution_count": 41,
   "id": "2fba6bab",
   "metadata": {},
   "outputs": [],
   "source": [
    "# dataname.insert(loc(0=맨앞), column name, value)\n",
    "# metdata_pd['dataframe'] = datetime\n",
    "BS_data.insert(0,'datetime',Date_time)"
   ]
  },
  {
   "cell_type": "code",
   "execution_count": 42,
   "id": "61ed05df",
   "metadata": {},
   "outputs": [
    {
     "data": {
      "text/html": [
       "<div>\n",
       "<style scoped>\n",
       "    .dataframe tbody tr th:only-of-type {\n",
       "        vertical-align: middle;\n",
       "    }\n",
       "\n",
       "    .dataframe tbody tr th {\n",
       "        vertical-align: top;\n",
       "    }\n",
       "\n",
       "    .dataframe thead th {\n",
       "        text-align: right;\n",
       "    }\n",
       "</style>\n",
       "<table border=\"1\" class=\"dataframe\">\n",
       "  <thead>\n",
       "    <tr style=\"text-align: right;\">\n",
       "      <th></th>\n",
       "      <th>datetime</th>\n",
       "      <th>wu</th>\n",
       "      <th>wv</th>\n",
       "      <th>ws</th>\n",
       "      <th>wd</th>\n",
       "      <th>swh</th>\n",
       "      <th>pwp</th>\n",
       "      <th>mwd</th>\n",
       "      <th>shww</th>\n",
       "    </tr>\n",
       "  </thead>\n",
       "  <tbody>\n",
       "    <tr>\n",
       "      <th>0</th>\n",
       "      <td>1979-01-01 00:00:00</td>\n",
       "      <td>-3.511307</td>\n",
       "      <td>-11.311249</td>\n",
       "      <td>11.843717</td>\n",
       "      <td>17.245697</td>\n",
       "      <td>3.548189</td>\n",
       "      <td>8.416359</td>\n",
       "      <td>16.447746</td>\n",
       "      <td>3.064941</td>\n",
       "    </tr>\n",
       "    <tr>\n",
       "      <th>1</th>\n",
       "      <td>1979-01-01 01:00:00</td>\n",
       "      <td>-2.022903</td>\n",
       "      <td>-11.037857</td>\n",
       "      <td>11.221695</td>\n",
       "      <td>10.385330</td>\n",
       "      <td>3.308470</td>\n",
       "      <td>8.380226</td>\n",
       "      <td>15.644556</td>\n",
       "      <td>2.729492</td>\n",
       "    </tr>\n",
       "    <tr>\n",
       "      <th>2</th>\n",
       "      <td>1979-01-01 02:00:00</td>\n",
       "      <td>-0.979095</td>\n",
       "      <td>-10.614609</td>\n",
       "      <td>10.659669</td>\n",
       "      <td>5.270081</td>\n",
       "      <td>3.069058</td>\n",
       "      <td>8.310402</td>\n",
       "      <td>14.453225</td>\n",
       "      <td>2.363037</td>\n",
       "    </tr>\n",
       "    <tr>\n",
       "      <th>3</th>\n",
       "      <td>1979-01-01 03:00:00</td>\n",
       "      <td>-0.411957</td>\n",
       "      <td>-10.006790</td>\n",
       "      <td>10.015266</td>\n",
       "      <td>2.357422</td>\n",
       "      <td>2.843885</td>\n",
       "      <td>8.197609</td>\n",
       "      <td>13.109766</td>\n",
       "      <td>2.067383</td>\n",
       "    </tr>\n",
       "    <tr>\n",
       "      <th>4</th>\n",
       "      <td>1979-01-01 04:00:00</td>\n",
       "      <td>0.261047</td>\n",
       "      <td>-9.433578</td>\n",
       "      <td>9.437189</td>\n",
       "      <td>358.414917</td>\n",
       "      <td>2.631712</td>\n",
       "      <td>8.024269</td>\n",
       "      <td>11.492941</td>\n",
       "      <td>1.726318</td>\n",
       "    </tr>\n",
       "    <tr>\n",
       "      <th>...</th>\n",
       "      <td>...</td>\n",
       "      <td>...</td>\n",
       "      <td>...</td>\n",
       "      <td>...</td>\n",
       "      <td>...</td>\n",
       "      <td>...</td>\n",
       "      <td>...</td>\n",
       "      <td>...</td>\n",
       "      <td>...</td>\n",
       "    </tr>\n",
       "    <tr>\n",
       "      <th>336931</th>\n",
       "      <td>2020-11-30 19:00:00</td>\n",
       "      <td>10.385666</td>\n",
       "      <td>9.870270</td>\n",
       "      <td>14.327744</td>\n",
       "      <td>226.457520</td>\n",
       "      <td>4.120685</td>\n",
       "      <td>8.623878</td>\n",
       "      <td>238.632980</td>\n",
       "      <td>3.545166</td>\n",
       "    </tr>\n",
       "    <tr>\n",
       "      <th>336932</th>\n",
       "      <td>2020-11-30 20:00:00</td>\n",
       "      <td>11.085052</td>\n",
       "      <td>10.613800</td>\n",
       "      <td>15.347023</td>\n",
       "      <td>226.244141</td>\n",
       "      <td>4.269912</td>\n",
       "      <td>8.758156</td>\n",
       "      <td>236.626144</td>\n",
       "      <td>3.769287</td>\n",
       "    </tr>\n",
       "    <tr>\n",
       "      <th>336933</th>\n",
       "      <td>2020-11-30 21:00:00</td>\n",
       "      <td>11.169662</td>\n",
       "      <td>10.499557</td>\n",
       "      <td>15.329778</td>\n",
       "      <td>226.771271</td>\n",
       "      <td>4.421461</td>\n",
       "      <td>9.111671</td>\n",
       "      <td>235.258179</td>\n",
       "      <td>3.947998</td>\n",
       "    </tr>\n",
       "    <tr>\n",
       "      <th>336934</th>\n",
       "      <td>2020-11-30 22:00:00</td>\n",
       "      <td>11.992355</td>\n",
       "      <td>10.996841</td>\n",
       "      <td>16.271051</td>\n",
       "      <td>227.479553</td>\n",
       "      <td>4.573709</td>\n",
       "      <td>9.279640</td>\n",
       "      <td>234.384445</td>\n",
       "      <td>4.159180</td>\n",
       "    </tr>\n",
       "    <tr>\n",
       "      <th>336935</th>\n",
       "      <td>2020-11-30 23:00:00</td>\n",
       "      <td>12.803665</td>\n",
       "      <td>10.408737</td>\n",
       "      <td>16.500776</td>\n",
       "      <td>230.890625</td>\n",
       "      <td>4.735063</td>\n",
       "      <td>9.367531</td>\n",
       "      <td>234.198517</td>\n",
       "      <td>4.357910</td>\n",
       "    </tr>\n",
       "  </tbody>\n",
       "</table>\n",
       "<p>336936 rows × 9 columns</p>\n",
       "</div>"
      ],
      "text/plain": [
       "                  datetime         wu         wv         ws          wd  \\\n",
       "0      1979-01-01 00:00:00  -3.511307 -11.311249  11.843717   17.245697   \n",
       "1      1979-01-01 01:00:00  -2.022903 -11.037857  11.221695   10.385330   \n",
       "2      1979-01-01 02:00:00  -0.979095 -10.614609  10.659669    5.270081   \n",
       "3      1979-01-01 03:00:00  -0.411957 -10.006790  10.015266    2.357422   \n",
       "4      1979-01-01 04:00:00   0.261047  -9.433578   9.437189  358.414917   \n",
       "...                    ...        ...        ...        ...         ...   \n",
       "336931 2020-11-30 19:00:00  10.385666   9.870270  14.327744  226.457520   \n",
       "336932 2020-11-30 20:00:00  11.085052  10.613800  15.347023  226.244141   \n",
       "336933 2020-11-30 21:00:00  11.169662  10.499557  15.329778  226.771271   \n",
       "336934 2020-11-30 22:00:00  11.992355  10.996841  16.271051  227.479553   \n",
       "336935 2020-11-30 23:00:00  12.803665  10.408737  16.500776  230.890625   \n",
       "\n",
       "             swh       pwp         mwd      shww  \n",
       "0       3.548189  8.416359   16.447746  3.064941  \n",
       "1       3.308470  8.380226   15.644556  2.729492  \n",
       "2       3.069058  8.310402   14.453225  2.363037  \n",
       "3       2.843885  8.197609   13.109766  2.067383  \n",
       "4       2.631712  8.024269   11.492941  1.726318  \n",
       "...          ...       ...         ...       ...  \n",
       "336931  4.120685  8.623878  238.632980  3.545166  \n",
       "336932  4.269912  8.758156  236.626144  3.769287  \n",
       "336933  4.421461  9.111671  235.258179  3.947998  \n",
       "336934  4.573709  9.279640  234.384445  4.159180  \n",
       "336935  4.735063  9.367531  234.198517  4.357910  \n",
       "\n",
       "[336936 rows x 9 columns]"
      ]
     },
     "execution_count": 42,
     "metadata": {},
     "output_type": "execute_result"
    }
   ],
   "source": [
    "BS_data"
   ]
  },
  {
   "cell_type": "code",
   "execution_count": 43,
   "id": "eb71befa",
   "metadata": {},
   "outputs": [
    {
     "data": {
      "text/plain": [
       "(336936, 9)"
      ]
     },
     "execution_count": 43,
     "metadata": {},
     "output_type": "execute_result"
    }
   ],
   "source": [
    "BS_data.shape"
   ]
  },
  {
   "cell_type": "code",
   "execution_count": 44,
   "id": "59d3b33b",
   "metadata": {},
   "outputs": [
    {
     "data": {
      "image/png": "[encoded data removed]",
      "text/plain": [
       "<Figure size 360x360 with 1 Axes>"
      ]
     },
     "metadata": {
      "needs_background": "light"
     },
     "output_type": "display_data"
    }
   ],
   "source": [
    "plt.figure(figsize = (5,5))\n",
    "sns.scatterplot(x=\"ws\", y=\"swh\", data=BS_data, marker ='o', color ='red')\n",
    "plt.title (\"title\")\n",
    "plt.xlabel (\"x lable\")\n",
    "plt.xlim([0, 30])\n",
    "plt.ylabel (\"y lable\")\n",
    "plt.ylim([0, 14])\n",
    "# plt.legend()\n",
    "plt.show()"
   ]
  },
  {
   "cell_type": "markdown",
   "id": "a5a52b2a",
   "metadata": {},
   "source": [
    "## Data 저장"
   ]
  },
  {
   "cell_type": "code",
   "execution_count": 60,
   "id": "248cc059",
   "metadata": {},
   "outputs": [],
   "source": [
    "Outlier = BS_data[BS_data['swh']<0.001].index\n",
    "BS_data_modified = BS_data.drop(Outlier)"
   ]
  },
  {
   "cell_type": "code",
   "execution_count": 65,
   "id": "a4189197",
   "metadata": {},
   "outputs": [
    {
     "data": {
      "text/plain": [
       "(336936, 9)"
      ]
     },
     "execution_count": 65,
     "metadata": {},
     "output_type": "execute_result"
    }
   ],
   "source": [
    "BS_data.shape"
   ]
  },
  {
   "cell_type": "code",
   "execution_count": 64,
   "id": "0f9198ec",
   "metadata": {},
   "outputs": [
    {
     "data": {
      "text/plain": [
       "(330312, 9)"
      ]
     },
     "execution_count": 64,
     "metadata": {},
     "output_type": "execute_result"
    }
   ],
   "source": [
    "BS_data_modified"
   ]
  },
  {
   "cell_type": "code",
   "execution_count": 66,
   "id": "ff95681e",
   "metadata": {},
   "outputs": [],
   "source": [
    "# data csv로 저장하기\n",
    "\n",
    "BS_data.to_csv('./Barents_72_5N_43_5W/NC_File/BS_data_ECMWF(1989_2020)_ori.csv')\n",
    "BS_data_modified.to_csv('./Barents_72_5N_43_5W/NC_File/BS_data_ECMWF(1989_2020)_remove_outlier.csv')"
   ]
  }
 ],
 "metadata": {
  "kernelspec": {
   "display_name": "Python 3 (Notebook)",
   "language": "python",
   "name": "python3"
  },
  "language_info": {
   "codemirror_mode": {
    "name": "ipython",
    "version": 3
   },
   "file_extension": ".py",
   "mimetype": "text/x-python",
   "name": "python",
   "nbconvert_exporter": "python",
   "pygments_lexer": "ipython3",
   "version": "3.8.10"
  }
 },
 "nbformat": 4,
 "nbformat_minor": 5
}
