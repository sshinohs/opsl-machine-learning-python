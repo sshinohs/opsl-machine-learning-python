{
 "cells": [
  {
   "cell_type": "markdown",
   "id": "e0456c8b",
   "metadata": {},
   "source": [
    "### *.nc 파일 불러오기"
   ]
  },
  {
   "cell_type": "code",
   "execution_count": 1,
   "id": "471cb782",
   "metadata": {},
   "outputs": [],
   "source": [
    "from netCDF4 import Dataset"
   ]
  },
  {
   "cell_type": "code",
   "execution_count": 2,
   "id": "cd723163",
   "metadata": {},
   "outputs": [],
   "source": [
    "from mpl_toolkits.basemap import Basemap"
   ]
  },
  {
   "cell_type": "code",
   "execution_count": 11,
   "id": "b3d24bb0",
   "metadata": {},
   "outputs": [],
   "source": [
    "file_name = 'ham.nc'"
   ]
  },
  {
   "cell_type": "code",
   "execution_count": 12,
   "id": "4ff0a624",
   "metadata": {},
   "outputs": [],
   "source": [
    "nc = Dataset(file_name)"
   ]
  },
  {
   "cell_type": "code",
   "execution_count": 13,
   "id": "98bdb6f4",
   "metadata": {},
   "outputs": [
    {
     "data": {
      "text/plain": [
       "<class 'netCDF4._netCDF4.Dataset'>\n",
       "root group (NETCDF3_64BIT_OFFSET data model, file format NETCDF3):\n",
       "    CDI: Climate Data Interface version ?? (http://mpimet.mpg.de/cdi)\n",
       "    Conventions: CF-1.6\n",
       "    history: Tue Mar 29 18:20:01 2022: cdo -f nc copy tak_test.grib ham.nc\n",
       "    institution: European Centre for Medium-Range Weather Forecasts\n",
       "    CDO: Climate Data Operators version 1.9.3 (http://mpimet.mpg.de/cdo)\n",
       "    dimensions(sizes): time(8784), lon(5), lat(5), lon_2(3), lat_2(3)\n",
       "    variables(dimensions): float64 time(time), float32 lon(lon), float32 lat(lat), float32 lon_2(lon_2), float32 lat_2(lat_2), float32 u10n(time, lat, lon), float32 10u(time, lat, lon), float32 v10n(time, lat, lon), float32 10v(time, lat, lon), float32 mdww(time, lat_2, lon_2), float32 mpww(time, lat_2, lon_2), float32 mwd(time, lat_2, lon_2), float32 mwp(time, lat_2, lon_2), float32 pp1d(time, lat_2, lon_2), float32 swh(time, lat_2, lon_2)\n",
       "    groups: "
      ]
     },
     "execution_count": 13,
     "metadata": {},
     "output_type": "execute_result"
    }
   ],
   "source": [
    "nc"
   ]
  },
  {
   "cell_type": "code",
   "execution_count": 14,
   "id": "15d81514",
   "metadata": {},
   "outputs": [
    {
     "data": {
      "text/plain": [
       "dict_keys(['time', 'lon', 'lat', 'lon_2', 'lat_2', 'u10n', '10u', 'v10n', '10v', 'mdww', 'mpww', 'mwd', 'mwp', 'pp1d', 'swh'])"
      ]
     },
     "execution_count": 14,
     "metadata": {},
     "output_type": "execute_result"
    }
   ],
   "source": [
    "nc.variables.keys()"
   ]
  },
  {
   "cell_type": "code",
   "execution_count": 7,
   "id": "18a021f7",
   "metadata": {},
   "outputs": [
    {
     "data": {
      "text/plain": [
       "masked_array(data=[-94.  , -93.75, -93.5 , -93.25, -93.  ],\n",
       "             mask=False,\n",
       "       fill_value=1e+20)"
      ]
     },
     "execution_count": 7,
     "metadata": {},
     "output_type": "execute_result"
    }
   ],
   "source": [
    "nc.variables['lon'][:]"
   ]
  },
  {
   "cell_type": "code",
   "execution_count": 8,
   "id": "5dfed47d",
   "metadata": {},
   "outputs": [
    {
     "data": {
      "text/plain": [
       "masked_array(data=[26.5 , 26.25, 26.  , 25.75, 25.5 ],\n",
       "             mask=False,\n",
       "       fill_value=1e+20)"
      ]
     },
     "execution_count": 8,
     "metadata": {},
     "output_type": "execute_result"
    }
   ],
   "source": [
    "nc.variables['lat'][:]"
   ]
  },
  {
   "cell_type": "code",
   "execution_count": 10,
   "id": "af91687f",
   "metadata": {},
   "outputs": [
    {
     "data": {
      "text/plain": [
       "dict_keys(['time', 'lon', 'lat', 'lon_2', 'lat_2', 'var131', 'var165', 'var132', 'var166', 'var235', 'var236', 'var230', 'var232', 'var231', 'var229'])"
      ]
     },
     "execution_count": 10,
     "metadata": {},
     "output_type": "execute_result"
    }
   ],
   "source": [
    "nc.variables.keys()"
   ]
  },
  {
   "cell_type": "code",
   "execution_count": null,
   "id": "91fa21ca",
   "metadata": {},
   "outputs": [],
   "source": []
  }
 ],
 "metadata": {
  "kernelspec": {
   "display_name": "Python 3 (Notebook)",
   "language": "python",
   "name": "python3"
  },
  "language_info": {
   "codemirror_mode": {
    "name": "ipython",
    "version": 3
   },
   "file_extension": ".py",
   "mimetype": "text/x-python",
   "name": "python",
   "nbconvert_exporter": "python",
   "pygments_lexer": "ipython3",
   "version": "3.8.10"
  }
 },
 "nbformat": 4,
 "nbformat_minor": 5
}
