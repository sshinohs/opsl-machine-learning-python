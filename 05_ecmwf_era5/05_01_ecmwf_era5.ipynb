{
 "cells": [
  {
   "cell_type": "markdown",
   "id": "0a824a07",
   "metadata": {},
   "source": [
    "### *.nc 파일 불러오기"
   ]
  },
  {
   "cell_type": "code",
   "execution_count": 5,
   "id": "a8bae924",
   "metadata": {},
   "outputs": [],
   "source": [
    "from netCDF4 import Dataset"
   ]
  },
  {
   "cell_type": "code",
   "execution_count": 6,
   "id": "ad42e6b2",
   "metadata": {},
   "outputs": [],
   "source": [
    "file_name = 'new.nc'"
   ]
  },
  {
   "cell_type": "code",
   "execution_count": 7,
   "id": "60ca9bb5",
   "metadata": {},
   "outputs": [],
   "source": [
    "nc = Dataset(file_name)"
   ]
  },
  {
   "cell_type": "code",
   "execution_count": 8,
   "id": "83011606",
   "metadata": {},
   "outputs": [
    {
     "data": {
      "text/plain": [
       "<class 'netCDF4._netCDF4.Dataset'>\n",
       "root group (NETCDF3_64BIT_OFFSET data model, file format NETCDF3):\n",
       "    CDI: Climate Data Interface version ?? (http://mpimet.mpg.de/cdi)\n",
       "    Conventions: CF-1.6\n",
       "    history: Wed Mar 30 10:11:30 2022: cdo -f nc copy tak_test.grib new.nc\n",
       "    institution: European Centre for Medium-Range Weather Forecasts\n",
       "    CDO: Climate Data Operators version 1.9.3 (http://mpimet.mpg.de/cdo)\n",
       "    dimensions(sizes): time(8784), lon(5), lat(5), lon_2(3), lat_2(3)\n",
       "    variables(dimensions): float64 time(time), float32 lon(lon), float32 lat(lat), float32 lon_2(lon_2), float32 lat_2(lat_2), float32 u10n(time, lat, lon), float32 10u(time, lat, lon), float32 v10n(time, lat, lon), float32 10v(time, lat, lon), float32 mdww(time, lat_2, lon_2), float32 mpww(time, lat_2, lon_2), float32 mwd(time, lat_2, lon_2), float32 mwp(time, lat_2, lon_2), float32 pp1d(time, lat_2, lon_2), float32 swh(time, lat_2, lon_2)\n",
       "    groups: "
      ]
     },
     "execution_count": 8,
     "metadata": {},
     "output_type": "execute_result"
    }
   ],
   "source": [
    "nc"
   ]
  },
  {
   "cell_type": "code",
   "execution_count": 9,
   "id": "0a66334a",
   "metadata": {},
   "outputs": [
    {
     "data": {
      "text/plain": [
       "dict_keys(['time', 'lon', 'lat', 'lon_2', 'lat_2', 'u10n', '10u', 'v10n', '10v', 'mdww', 'mpww', 'mwd', 'mwp', 'pp1d', 'swh'])"
      ]
     },
     "execution_count": 9,
     "metadata": {},
     "output_type": "execute_result"
    }
   ],
   "source": [
    "nc.variables.keys()"
   ]
  },
  {
   "cell_type": "code",
   "execution_count": 7,
   "id": "2b315d46",
   "metadata": {},
   "outputs": [
    {
     "data": {
      "text/plain": [
       "masked_array(data=[-94.  , -93.75, -93.5 , -93.25, -93.  ],\n",
       "             mask=False,\n",
       "       fill_value=1e+20)"
      ]
     },
     "execution_count": 7,
     "metadata": {},
     "output_type": "execute_result"
    }
   ],
   "source": [
    "nc.variables['lon'][:]"
   ]
  },
  {
   "cell_type": "code",
   "execution_count": 8,
   "id": "9cc3ab67",
   "metadata": {},
   "outputs": [
    {
     "data": {
      "text/plain": [
       "masked_array(data=[26.5 , 26.25, 26.  , 25.75, 25.5 ],\n",
       "             mask=False,\n",
       "       fill_value=1e+20)"
      ]
     },
     "execution_count": 8,
     "metadata": {},
     "output_type": "execute_result"
    }
   ],
   "source": [
    "nc.variables['lat'][:]"
   ]
  },
  {
   "cell_type": "code",
   "execution_count": 14,
   "id": "84e86d73",
   "metadata": {},
   "outputs": [
    {
     "data": {
      "text/plain": [
       "masked_array(\n",
       "  data=[[[1.7221708 , 1.824954  , 1.908206  ],\n",
       "         [1.6484404 , 1.7580595 , 1.8649931 ],\n",
       "         [1.548831  , 1.6611357 , 1.7746611 ]],\n",
       "\n",
       "        [[1.7248926 , 1.8310938 , 1.913125  ],\n",
       "         [1.6692286 , 1.7815332 , 1.8855371 ],\n",
       "         [1.5769434 , 1.6938868 , 1.8098536 ]],\n",
       "\n",
       "        [[1.7229891 , 1.8267488 , 1.9048738 ],\n",
       "         [1.6831942 , 1.7976961 , 1.8955965 ],\n",
       "         [1.6033602 , 1.7249422 , 1.8348055 ]],\n",
       "\n",
       "        ...,\n",
       "\n",
       "        [[0.5656447 , 0.5795607 , 0.5964064 ],\n",
       "         [0.6452345 , 0.66159195, 0.6777052 ],\n",
       "         [0.72409195, 0.73922867, 0.75705093]],\n",
       "\n",
       "        [[0.535467  , 0.5486506 , 0.5654963 ],\n",
       "         [0.6123713 , 0.62824047, 0.6453303 ],\n",
       "         [0.6892756 , 0.7046565 , 0.72199047]],\n",
       "\n",
       "        [[0.5114346 , 0.52364165, 0.5402432 ],\n",
       "         [0.5851651 , 0.6003018 , 0.6176358 ],\n",
       "         [0.66011626, 0.67574126, 0.69307524]]],\n",
       "  mask=False,\n",
       "  fill_value=1e+20,\n",
       "  dtype=float32)"
      ]
     },
     "execution_count": 14,
     "metadata": {},
     "output_type": "execute_result"
    }
   ],
   "source": [
    "nc.variables['swh'][:]"
   ]
  },
  {
   "cell_type": "code",
   "execution_count": 10,
   "id": "bc79ef06",
   "metadata": {},
   "outputs": [
    {
     "data": {
      "text/plain": [
       "dict_keys(['time', 'lon', 'lat', 'lon_2', 'lat_2', 'var131', 'var165', 'var132', 'var166', 'var235', 'var236', 'var230', 'var232', 'var231', 'var229'])"
      ]
     },
     "execution_count": 10,
     "metadata": {},
     "output_type": "execute_result"
    }
   ],
   "source": [
    "nc.variables.keys()"
   ]
  },
  {
   "cell_type": "code",
   "execution_count": null,
   "id": "f9b436ac",
   "metadata": {},
   "outputs": [],
   "source": []
  }
 ],
 "metadata": {
  "kernelspec": {
   "display_name": "Python 3 (Notebook)",
   "language": "python",
   "name": "python3"
  },
  "language_info": {
   "codemirror_mode": {
    "name": "ipython",
    "version": 3
   },
   "file_extension": ".py",
   "mimetype": "text/x-python",
   "name": "python",
   "nbconvert_exporter": "python",
   "pygments_lexer": "ipython3",
   "version": "3.8.10"
  }
 },
 "nbformat": 4,
 "nbformat_minor": 5
}
