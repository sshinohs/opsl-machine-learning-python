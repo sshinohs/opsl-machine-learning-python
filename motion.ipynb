{
 "cells": [
  {
   "cell_type": "code",
   "execution_count": 9,
   "id": "871d1c70",
   "metadata": {},
   "outputs": [],
   "source": [
    "import os\n",
    "import pandas as pd"
   ]
  },
  {
   "cell_type": "code",
   "execution_count": 10,
   "id": "1cd5ab95",
   "metadata": {},
   "outputs": [],
   "source": [
    "def path_rao(dir_path):\n",
    "    file_list_temp = os.listdir(dir_path)\n",
    "    file_path_list = []\n",
    "    for file_name in file_list_temp:\n",
    "        if \"RAO\" in file_name:\n",
    "            file_path = os.path.join(dir_path, file_name)\n",
    "            file_path_list.append(file_path)\n",
    "    \n",
    "    file_path_list.sort()\n",
    "    \n",
    "    return file_path_list"
   ]
  },
  {
   "cell_type": "code",
   "execution_count": 11,
   "id": "fc170264",
   "metadata": {},
   "outputs": [],
   "source": [
    "def path_damping(dir_path):\n",
    "    file_list_temp = os.listdir(dir_path)\n",
    "    file_path_list = []\n",
    "    for file_name in file_list_temp:\n",
    "        if \"damping\" in file_name:\n",
    "            file_path = os.path.join(dir_path, file_name)\n",
    "            file_path_list.append(file_path)\n",
    "    \n",
    "    file_path_list.sort()\n",
    "    \n",
    "    return file_path_list"
   ]
  },
  {
   "cell_type": "code",
   "execution_count": 12,
   "id": "272fa44e",
   "metadata": {},
   "outputs": [],
   "source": [
    "def path_decay(dir_path):\n",
    "    file_list_temp = os.listdir(dir_path)\n",
    "    file_path_list = []\n",
    "    for file_name in file_list_temp:\n",
    "        if \"Decay\" in file_name:\n",
    "            file_path = os.path.join(dir_path, file_name)\n",
    "            file_path_list.append(file_path)\n",
    "    \n",
    "    file_path_list.sort()\n",
    "    \n",
    "    return file_path_list"
   ]
  },
  {
   "cell_type": "code",
   "execution_count": 13,
   "id": "5fd29d7c",
   "metadata": {},
   "outputs": [],
   "source": [
    "def load_rao(path):\n",
    "    \n",
    "    data = pd.read_csv(path,skiprows=7, encoding='cp949', header=None, \n",
    "                       names=['frame','time','trx','try','trz','tpx','tpy','tpz','mme',\n",
    "                              'px1','py1','pz1',\n",
    "                              'px2','py2','pz2',\n",
    "                              'px3','py3','pz3',\n",
    "                              'px4','py4','pz4',\n",
    "                              'px5','py5','pz5'])\n",
    "    \n",
    "    period = path[-14:-10]\n",
    "    height = path[-7:-6]\n",
    "    \n",
    "    data['period'] = period\n",
    "    data['height'] = height\n",
    "    \n",
    "    return data"
   ]
  }
 ],
 "metadata": {
  "kernelspec": {
   "display_name": "Python 3 (Notebook)",
   "language": "python",
   "name": "python3"
  },
  "language_info": {
   "codemirror_mode": {
    "name": "ipython",
    "version": 3
   },
   "file_extension": ".py",
   "mimetype": "text/x-python",
   "name": "python",
   "nbconvert_exporter": "python",
   "pygments_lexer": "ipython3",
   "version": "3.8.10"
  }
 },
 "nbformat": 4,
 "nbformat_minor": 5
}
