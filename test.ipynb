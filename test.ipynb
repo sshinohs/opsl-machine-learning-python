{
 "cells": [
  {
   "cell_type": "code",
   "execution_count": 7,
   "id": "7509c5a6",
   "metadata": {},
   "outputs": [
    {
     "name": "stdout",
     "output_type": "stream",
     "text": [
      "importing Jupyter notebook from hemmo.ipynb\n"
     ]
    }
   ],
   "source": [
    "import import_ipynb\n",
    "import hello\n",
    "import hemmo"
   ]
  },
  {
   "cell_type": "code",
   "execution_count": 1,
   "id": "7c8e1141",
   "metadata": {},
   "outputs": [],
   "source": [
    "a = 1"
   ]
  },
  {
   "cell_type": "code",
   "execution_count": 2,
   "id": "80d4ee76",
   "metadata": {},
   "outputs": [],
   "source": [
    "b = 2"
   ]
  },
  {
   "cell_type": "code",
   "execution_count": 3,
   "id": "04327109",
   "metadata": {},
   "outputs": [],
   "source": [
    "c = 3"
   ]
  },
  {
   "cell_type": "code",
   "execution_count": 4,
   "id": "5b681b9f",
   "metadata": {},
   "outputs": [],
   "source": [
    "d = a+b+c"
   ]
  },
  {
   "cell_type": "code",
   "execution_count": 5,
   "id": "782bb48e",
   "metadata": {},
   "outputs": [
    {
     "name": "stdout",
     "output_type": "stream",
     "text": [
      "6\n"
     ]
    }
   ],
   "source": [
    "print(d)"
   ]
  },
  {
   "cell_type": "code",
   "execution_count": null,
   "id": "587e8d9a",
   "metadata": {},
   "outputs": [],
   "source": []
  }
 ],
 "metadata": {
  "kernelspec": {
   "display_name": "Python 3 (Notebook)",
   "language": "python",
   "name": "python3"
  },
  "language_info": {
   "codemirror_mode": {
    "name": "ipython",
    "version": 3
   },
   "file_extension": ".py",
   "mimetype": "text/x-python",
   "name": "python",
   "nbconvert_exporter": "python",
   "pygments_lexer": "ipython3",
   "version": "3.8.10"
  }
 },
 "nbformat": 4,
 "nbformat_minor": 5
}
