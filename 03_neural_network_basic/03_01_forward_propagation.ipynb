{
 "cells": [
  {
   "cell_type": "markdown",
   "id": "6acccbe1",
   "metadata": {},
   "source": [
    "### 퍼셉트론 - 선형 회귀 실습"
   ]
  },
  {
   "cell_type": "code",
   "execution_count": 22,
   "id": "cd263c39",
   "metadata": {},
   "outputs": [],
   "source": [
    "import tensorflow as tf\n",
    "from tensorflow import keras\n",
    "\n",
    "import numpy as np\n",
    "import matplotlib.pyplot as plt\n",
    "import matplotlib as mpl\n",
    "mpl.rcParams.update(mpl.rcParamsDefault)"
   ]
  },
  {
   "cell_type": "code",
   "execution_count": 23,
   "id": "d05a7f72",
   "metadata": {},
   "outputs": [
    {
     "data": {
      "text/plain": [
       "'2.6.2'"
      ]
     },
     "execution_count": 23,
     "metadata": {},
     "output_type": "execute_result"
    }
   ],
   "source": [
    "tf.__version__"
   ]
  },
  {
   "cell_type": "code",
   "execution_count": 24,
   "id": "3812d4cf",
   "metadata": {},
   "outputs": [
    {
     "data": {
      "text/plain": [
       "'2.6.0'"
      ]
     },
     "execution_count": 24,
     "metadata": {},
     "output_type": "execute_result"
    }
   ],
   "source": [
    "keras.__version__"
   ]
  },
  {
   "cell_type": "markdown",
   "id": "d58a6c22",
   "metadata": {},
   "source": [
    "#### 선형 회귀(1차), y = a + bx"
   ]
  },
  {
   "cell_type": "code",
   "execution_count": 33,
   "id": "4216a6e5",
   "metadata": {},
   "outputs": [],
   "source": [
    "model = keras.models.Sequential([\n",
    "    keras.layers.Dense(3),\n",
    "    keras.layers.Dense(2),\n",
    "    keras.layers.Dense(1)\n",
    "])"
   ]
  },
  {
   "cell_type": "code",
   "execution_count": 34,
   "id": "6d8b6835",
   "metadata": {},
   "outputs": [],
   "source": [
    "model.compile(loss=\"mean_squared_error\", optimizer=\"sgd\")"
   ]
  },
  {
   "cell_type": "code",
   "execution_count": 35,
   "id": "9bc2e3d3",
   "metadata": {},
   "outputs": [],
   "source": [
    "import numpy as np"
   ]
  },
  {
   "cell_type": "code",
   "execution_count": 36,
   "id": "41378253",
   "metadata": {},
   "outputs": [],
   "source": [
    "X = 2 * np.random.rand(100, 1)\n",
    "y = 4 + 3 * X + np.random.rand(100,1) - 0.5"
   ]
  },
  {
   "cell_type": "code",
   "execution_count": 37,
   "id": "2afac06a",
   "metadata": {},
   "outputs": [],
   "source": [
    "X_train = X[:80]\n",
    "y_train = y[:80]\n",
    "\n",
    "X_valid = X[80:]\n",
    "y_valid = y[80:]"
   ]
  },
  {
   "cell_type": "code",
   "execution_count": 38,
   "id": "141c7ead",
   "metadata": {},
   "outputs": [
    {
     "name": "stdout",
     "output_type": "stream",
     "text": [
      "Epoch 1/150\n",
      "3/3 [==============================] - 0s 43ms/step - loss: 32.0697 - val_loss: 1.7478\n",
      "Epoch 2/150\n",
      "3/3 [==============================] - 0s 11ms/step - loss: 0.8097 - val_loss: 0.5277\n",
      "Epoch 3/150\n",
      "3/3 [==============================] - 0s 17ms/step - loss: 0.3275 - val_loss: 0.3428\n",
      "Epoch 4/150\n",
      "3/3 [==============================] - 0s 18ms/step - loss: 0.2551 - val_loss: 0.2536\n",
      "Epoch 5/150\n",
      "1/3 [=========>....................] - ETA: 0s - loss: 0.2376"
     ]
    },
    {
     "name": "stderr",
     "output_type": "stream",
     "text": [
      "2022-03-19 16:30:24.966593: I tensorflow/stream_executor/cuda/cuda_blas.cc:1760] TensorFloat-32 will be used for the matrix multiplication. This will only be logged once.\n"
     ]
    },
    {
     "name": "stdout",
     "output_type": "stream",
     "text": [
      "3/3 [==============================] - 0s 17ms/step - loss: 0.2240 - val_loss: 0.2411\n",
      "Epoch 6/150\n",
      "3/3 [==============================] - 0s 15ms/step - loss: 0.1754 - val_loss: 0.2248\n",
      "Epoch 7/150\n",
      "3/3 [==============================] - 0s 12ms/step - loss: 0.1610 - val_loss: 0.1839\n",
      "Epoch 8/150\n",
      "3/3 [==============================] - 0s 12ms/step - loss: 0.1442 - val_loss: 0.1954\n",
      "Epoch 9/150\n",
      "3/3 [==============================] - 0s 12ms/step - loss: 0.1348 - val_loss: 0.1709\n",
      "Epoch 10/150\n",
      "3/3 [==============================] - 0s 17ms/step - loss: 0.1226 - val_loss: 0.1543\n",
      "Epoch 11/150\n",
      "3/3 [==============================] - 0s 14ms/step - loss: 0.1170 - val_loss: 0.1519\n",
      "Epoch 12/150\n",
      "3/3 [==============================] - 0s 17ms/step - loss: 0.1088 - val_loss: 0.1184\n",
      "Epoch 13/150\n",
      "3/3 [==============================] - 0s 13ms/step - loss: 0.1133 - val_loss: 0.1244\n",
      "Epoch 14/150\n",
      "3/3 [==============================] - 0s 17ms/step - loss: 0.1005 - val_loss: 0.1753\n",
      "Epoch 15/150\n",
      "3/3 [==============================] - 0s 18ms/step - loss: 0.1110 - val_loss: 0.1524\n",
      "Epoch 16/150\n",
      "3/3 [==============================] - 0s 18ms/step - loss: 0.1022 - val_loss: 0.1128\n",
      "Epoch 17/150\n",
      "3/3 [==============================] - 0s 18ms/step - loss: 0.1004 - val_loss: 0.1003\n",
      "Epoch 18/150\n",
      "3/3 [==============================] - 0s 15ms/step - loss: 0.0909 - val_loss: 0.1665\n",
      "Epoch 19/150\n",
      "3/3 [==============================] - 0s 13ms/step - loss: 0.0981 - val_loss: 0.1107\n",
      "Epoch 20/150\n",
      "3/3 [==============================] - 0s 13ms/step - loss: 0.0878 - val_loss: 0.0943\n",
      "Epoch 21/150\n",
      "3/3 [==============================] - 0s 16ms/step - loss: 0.0885 - val_loss: 0.1017\n",
      "Epoch 22/150\n",
      "3/3 [==============================] - 0s 18ms/step - loss: 0.0867 - val_loss: 0.0996\n",
      "Epoch 23/150\n",
      "3/3 [==============================] - 0s 19ms/step - loss: 0.0889 - val_loss: 0.1119\n",
      "Epoch 24/150\n",
      "3/3 [==============================] - 0s 23ms/step - loss: 0.0878 - val_loss: 0.0834\n",
      "Epoch 25/150\n",
      "3/3 [==============================] - 0s 17ms/step - loss: 0.0974 - val_loss: 0.0847\n",
      "Epoch 26/150\n",
      "3/3 [==============================] - 0s 15ms/step - loss: 0.0873 - val_loss: 0.0824\n",
      "Epoch 27/150\n",
      "3/3 [==============================] - 0s 19ms/step - loss: 0.0843 - val_loss: 0.1131\n",
      "Epoch 28/150\n",
      "3/3 [==============================] - 0s 19ms/step - loss: 0.0860 - val_loss: 0.0929\n",
      "Epoch 29/150\n",
      "3/3 [==============================] - 0s 16ms/step - loss: 0.0871 - val_loss: 0.0996\n",
      "Epoch 30/150\n",
      "3/3 [==============================] - 0s 14ms/step - loss: 0.0929 - val_loss: 0.1010\n",
      "Epoch 31/150\n",
      "3/3 [==============================] - 0s 18ms/step - loss: 0.0845 - val_loss: 0.1024\n",
      "Epoch 32/150\n",
      "3/3 [==============================] - 0s 16ms/step - loss: 0.0870 - val_loss: 0.1066\n",
      "Epoch 33/150\n",
      "3/3 [==============================] - 0s 13ms/step - loss: 0.0833 - val_loss: 0.0814\n",
      "Epoch 34/150\n",
      "3/3 [==============================] - 0s 13ms/step - loss: 0.0911 - val_loss: 0.0840\n",
      "Epoch 35/150\n",
      "3/3 [==============================] - 0s 20ms/step - loss: 0.0862 - val_loss: 0.1220\n",
      "Epoch 36/150\n",
      "3/3 [==============================] - 0s 17ms/step - loss: 0.0937 - val_loss: 0.1112\n",
      "Epoch 37/150\n",
      "3/3 [==============================] - 0s 17ms/step - loss: 0.0887 - val_loss: 0.0793\n",
      "Epoch 38/150\n",
      "3/3 [==============================] - 0s 15ms/step - loss: 0.0834 - val_loss: 0.1099\n",
      "Epoch 39/150\n",
      "3/3 [==============================] - 0s 17ms/step - loss: 0.0880 - val_loss: 0.0944\n",
      "Epoch 40/150\n",
      "3/3 [==============================] - 0s 13ms/step - loss: 0.0873 - val_loss: 0.1369\n",
      "Epoch 41/150\n",
      "3/3 [==============================] - 0s 12ms/step - loss: 0.0891 - val_loss: 0.0965\n",
      "Epoch 42/150\n",
      "3/3 [==============================] - 0s 18ms/step - loss: 0.0882 - val_loss: 0.0911\n",
      "Epoch 43/150\n",
      "3/3 [==============================] - 0s 20ms/step - loss: 0.0841 - val_loss: 0.0808\n",
      "Epoch 44/150\n",
      "3/3 [==============================] - 0s 17ms/step - loss: 0.0836 - val_loss: 0.1215\n",
      "Epoch 45/150\n",
      "3/3 [==============================] - 0s 15ms/step - loss: 0.0837 - val_loss: 0.0764\n",
      "Epoch 46/150\n",
      "3/3 [==============================] - 0s 12ms/step - loss: 0.0857 - val_loss: 0.1068\n",
      "Epoch 47/150\n",
      "3/3 [==============================] - 0s 13ms/step - loss: 0.0846 - val_loss: 0.0885\n",
      "Epoch 48/150\n",
      "3/3 [==============================] - 0s 13ms/step - loss: 0.0836 - val_loss: 0.1033\n",
      "Epoch 49/150\n",
      "3/3 [==============================] - 0s 12ms/step - loss: 0.0943 - val_loss: 0.1015\n",
      "Epoch 50/150\n",
      "3/3 [==============================] - 0s 12ms/step - loss: 0.0888 - val_loss: 0.0904\n",
      "Epoch 51/150\n",
      "3/3 [==============================] - 0s 12ms/step - loss: 0.0857 - val_loss: 0.0811\n",
      "Epoch 52/150\n",
      "3/3 [==============================] - 0s 16ms/step - loss: 0.0840 - val_loss: 0.0807\n",
      "Epoch 53/150\n",
      "3/3 [==============================] - 0s 17ms/step - loss: 0.1059 - val_loss: 0.0815\n",
      "Epoch 54/150\n",
      "3/3 [==============================] - 0s 18ms/step - loss: 0.0886 - val_loss: 0.0761\n",
      "Epoch 55/150\n",
      "3/3 [==============================] - 0s 14ms/step - loss: 0.1071 - val_loss: 0.0770\n",
      "Epoch 56/150\n",
      "3/3 [==============================] - 0s 13ms/step - loss: 0.0843 - val_loss: 0.0972\n",
      "Epoch 57/150\n",
      "3/3 [==============================] - 0s 18ms/step - loss: 0.0840 - val_loss: 0.0966\n",
      "Epoch 58/150\n",
      "3/3 [==============================] - 0s 18ms/step - loss: 0.0897 - val_loss: 0.1291\n",
      "Epoch 59/150\n",
      "3/3 [==============================] - 0s 19ms/step - loss: 0.0845 - val_loss: 0.0774\n",
      "Epoch 60/150\n",
      "3/3 [==============================] - 0s 15ms/step - loss: 0.1011 - val_loss: 0.1091\n",
      "Epoch 61/150\n",
      "3/3 [==============================] - 0s 18ms/step - loss: 0.0917 - val_loss: 0.1031\n",
      "Epoch 62/150\n",
      "3/3 [==============================] - 0s 15ms/step - loss: 0.0860 - val_loss: 0.1082\n",
      "Epoch 63/150\n",
      "3/3 [==============================] - 0s 14ms/step - loss: 0.0900 - val_loss: 0.0904\n",
      "Epoch 64/150\n",
      "3/3 [==============================] - 0s 18ms/step - loss: 0.0853 - val_loss: 0.0763\n",
      "Epoch 65/150\n",
      "3/3 [==============================] - 0s 20ms/step - loss: 0.0902 - val_loss: 0.0782\n",
      "Epoch 66/150\n",
      "3/3 [==============================] - 0s 15ms/step - loss: 0.0891 - val_loss: 0.1298\n",
      "Epoch 67/150\n",
      "3/3 [==============================] - 0s 18ms/step - loss: 0.0890 - val_loss: 0.0785\n",
      "Epoch 68/150\n",
      "3/3 [==============================] - 0s 15ms/step - loss: 0.0899 - val_loss: 0.0908\n",
      "Epoch 69/150\n",
      "3/3 [==============================] - 0s 18ms/step - loss: 0.0841 - val_loss: 0.1295\n",
      "Epoch 70/150\n",
      "3/3 [==============================] - 0s 18ms/step - loss: 0.0941 - val_loss: 0.0881\n",
      "Epoch 71/150\n",
      "3/3 [==============================] - 0s 14ms/step - loss: 0.0873 - val_loss: 0.0791\n",
      "Epoch 72/150\n",
      "3/3 [==============================] - 0s 18ms/step - loss: 0.0853 - val_loss: 0.0977\n",
      "Epoch 73/150\n",
      "3/3 [==============================] - 0s 18ms/step - loss: 0.0901 - val_loss: 0.1266\n",
      "Epoch 74/150\n",
      "3/3 [==============================] - 0s 19ms/step - loss: 0.1159 - val_loss: 0.0936\n",
      "Epoch 75/150\n",
      "3/3 [==============================] - 0s 20ms/step - loss: 0.0840 - val_loss: 0.0752\n",
      "Epoch 76/150\n",
      "3/3 [==============================] - 0s 18ms/step - loss: 0.0917 - val_loss: 0.0756\n",
      "Epoch 77/150\n",
      "3/3 [==============================] - 0s 14ms/step - loss: 0.0877 - val_loss: 0.0891\n",
      "Epoch 78/150\n",
      "3/3 [==============================] - ETA: 0s - loss: 0.092 - 0s 17ms/step - loss: 0.0831 - val_loss: 0.0971\n",
      "Epoch 79/150\n",
      "3/3 [==============================] - 0s 18ms/step - loss: 0.0942 - val_loss: 0.0773\n",
      "Epoch 80/150\n",
      "3/3 [==============================] - 0s 19ms/step - loss: 0.0837 - val_loss: 0.0989\n",
      "Epoch 81/150\n",
      "3/3 [==============================] - 0s 20ms/step - loss: 0.0835 - val_loss: 0.0864\n",
      "Epoch 82/150\n",
      "3/3 [==============================] - 0s 16ms/step - loss: 0.0858 - val_loss: 0.1158\n",
      "Epoch 83/150\n",
      "3/3 [==============================] - 0s 14ms/step - loss: 0.0891 - val_loss: 0.0750\n",
      "Epoch 84/150\n",
      "3/3 [==============================] - 0s 13ms/step - loss: 0.0865 - val_loss: 0.1094\n",
      "Epoch 85/150\n",
      "3/3 [==============================] - 0s 12ms/step - loss: 0.0845 - val_loss: 0.0803\n",
      "Epoch 86/150\n",
      "3/3 [==============================] - 0s 12ms/step - loss: 0.0850 - val_loss: 0.0812\n",
      "Epoch 87/150\n",
      "3/3 [==============================] - 0s 12ms/step - loss: 0.0861 - val_loss: 0.0758\n",
      "Epoch 88/150\n",
      "3/3 [==============================] - 0s 12ms/step - loss: 0.0930 - val_loss: 0.0989\n",
      "Epoch 89/150\n",
      "3/3 [==============================] - 0s 17ms/step - loss: 0.0884 - val_loss: 0.0868\n",
      "Epoch 90/150\n",
      "3/3 [==============================] - 0s 14ms/step - loss: 0.0846 - val_loss: 0.0795\n",
      "Epoch 91/150\n",
      "3/3 [==============================] - 0s 13ms/step - loss: 0.0860 - val_loss: 0.0871\n",
      "Epoch 92/150\n",
      "3/3 [==============================] - 0s 13ms/step - loss: 0.0835 - val_loss: 0.1006\n",
      "Epoch 93/150\n",
      "3/3 [==============================] - 0s 18ms/step - loss: 0.0826 - val_loss: 0.0760\n",
      "Epoch 94/150\n",
      "3/3 [==============================] - 0s 19ms/step - loss: 0.0876 - val_loss: 0.0919\n",
      "Epoch 95/150\n",
      "3/3 [==============================] - 0s 18ms/step - loss: 0.0831 - val_loss: 0.0819\n",
      "Epoch 96/150\n",
      "3/3 [==============================] - 0s 13ms/step - loss: 0.0887 - val_loss: 0.0944\n",
      "Epoch 97/150\n",
      "3/3 [==============================] - 0s 17ms/step - loss: 0.0828 - val_loss: 0.0800\n",
      "Epoch 98/150\n",
      "3/3 [==============================] - 0s 17ms/step - loss: 0.0836 - val_loss: 0.1093\n",
      "Epoch 99/150\n",
      "3/3 [==============================] - 0s 17ms/step - loss: 0.0908 - val_loss: 0.0791\n",
      "Epoch 100/150\n",
      "3/3 [==============================] - 0s 14ms/step - loss: 0.1007 - val_loss: 0.0843\n",
      "Epoch 101/150\n",
      "3/3 [==============================] - 0s 18ms/step - loss: 0.0932 - val_loss: 0.0815\n",
      "Epoch 102/150\n",
      "3/3 [==============================] - 0s 17ms/step - loss: 0.0855 - val_loss: 0.0968\n",
      "Epoch 103/150\n",
      "3/3 [==============================] - 0s 18ms/step - loss: 0.0848 - val_loss: 0.1085\n",
      "Epoch 104/150\n",
      "3/3 [==============================] - 0s 18ms/step - loss: 0.0838 - val_loss: 0.0769\n",
      "Epoch 105/150\n",
      "3/3 [==============================] - 0s 18ms/step - loss: 0.0861 - val_loss: 0.0791\n",
      "Epoch 106/150\n",
      "3/3 [==============================] - 0s 18ms/step - loss: 0.0846 - val_loss: 0.0776\n",
      "Epoch 107/150\n",
      "3/3 [==============================] - 0s 18ms/step - loss: 0.0956 - val_loss: 0.0787\n",
      "Epoch 108/150\n",
      "3/3 [==============================] - 0s 18ms/step - loss: 0.0866 - val_loss: 0.1090\n",
      "Epoch 109/150\n",
      "3/3 [==============================] - 0s 15ms/step - loss: 0.0892 - val_loss: 0.0953\n",
      "Epoch 110/150\n",
      "3/3 [==============================] - 0s 13ms/step - loss: 0.0862 - val_loss: 0.1072\n",
      "Epoch 111/150\n",
      "3/3 [==============================] - 0s 18ms/step - loss: 0.0931 - val_loss: 0.1157\n",
      "Epoch 112/150\n",
      "3/3 [==============================] - 0s 20ms/step - loss: 0.0863 - val_loss: 0.0849\n",
      "Epoch 113/150\n",
      "3/3 [==============================] - 0s 17ms/step - loss: 0.0916 - val_loss: 0.0800\n",
      "Epoch 114/150\n",
      "3/3 [==============================] - 0s 16ms/step - loss: 0.0889 - val_loss: 0.1037\n",
      "Epoch 115/150\n",
      "3/3 [==============================] - 0s 18ms/step - loss: 0.0832 - val_loss: 0.0759\n",
      "Epoch 116/150\n",
      "3/3 [==============================] - 0s 18ms/step - loss: 0.0916 - val_loss: 0.0827\n",
      "Epoch 117/150\n",
      "3/3 [==============================] - 0s 18ms/step - loss: 0.0829 - val_loss: 0.0957\n",
      "Epoch 118/150\n",
      "3/3 [==============================] - 0s 18ms/step - loss: 0.0857 - val_loss: 0.0974\n",
      "Epoch 119/150\n",
      "3/3 [==============================] - 0s 14ms/step - loss: 0.0839 - val_loss: 0.0996\n",
      "Epoch 120/150\n",
      "3/3 [==============================] - 0s 13ms/step - loss: 0.0963 - val_loss: 0.0756\n",
      "Epoch 121/150\n",
      "3/3 [==============================] - 0s 13ms/step - loss: 0.0930 - val_loss: 0.0870\n",
      "Epoch 122/150\n",
      "3/3 [==============================] - 0s 18ms/step - loss: 0.0839 - val_loss: 0.0963\n",
      "Epoch 123/150\n",
      "3/3 [==============================] - 0s 18ms/step - loss: 0.0956 - val_loss: 0.0928\n",
      "Epoch 124/150\n",
      "3/3 [==============================] - 0s 18ms/step - loss: 0.0988 - val_loss: 0.0840\n",
      "Epoch 125/150\n",
      "3/3 [==============================] - 0s 22ms/step - loss: 0.1161 - val_loss: 0.0752\n",
      "Epoch 126/150\n",
      "3/3 [==============================] - 0s 15ms/step - loss: 0.0868 - val_loss: 0.1002\n",
      "Epoch 127/150\n",
      "3/3 [==============================] - 0s 18ms/step - loss: 0.0862 - val_loss: 0.0943\n",
      "Epoch 128/150\n",
      "3/3 [==============================] - 0s 17ms/step - loss: 0.0836 - val_loss: 0.0939\n",
      "Epoch 129/150\n",
      "3/3 [==============================] - 0s 18ms/step - loss: 0.0831 - val_loss: 0.0801\n",
      "Epoch 130/150\n",
      "3/3 [==============================] - 0s 18ms/step - loss: 0.0828 - val_loss: 0.1002\n",
      "Epoch 131/150\n",
      "3/3 [==============================] - 0s 17ms/step - loss: 0.0833 - val_loss: 0.0808\n",
      "Epoch 132/150\n",
      "3/3 [==============================] - 0s 14ms/step - loss: 0.0831 - val_loss: 0.0878\n",
      "Epoch 133/150\n",
      "3/3 [==============================] - 0s 12ms/step - loss: 0.0890 - val_loss: 0.1138\n",
      "Epoch 134/150\n",
      "3/3 [==============================] - 0s 13ms/step - loss: 0.0868 - val_loss: 0.0894\n",
      "Epoch 135/150\n",
      "3/3 [==============================] - 0s 17ms/step - loss: 0.0832 - val_loss: 0.0781\n",
      "Epoch 136/150\n",
      "3/3 [==============================] - 0s 18ms/step - loss: 0.0839 - val_loss: 0.0884\n",
      "Epoch 137/150\n",
      "3/3 [==============================] - 0s 17ms/step - loss: 0.0854 - val_loss: 0.0881\n",
      "Epoch 138/150\n",
      "3/3 [==============================] - 0s 18ms/step - loss: 0.0829 - val_loss: 0.0872\n",
      "Epoch 139/150\n",
      "3/3 [==============================] - 0s 19ms/step - loss: 0.0860 - val_loss: 0.0770\n",
      "Epoch 140/150\n",
      "3/3 [==============================] - 0s 18ms/step - loss: 0.0884 - val_loss: 0.1096\n",
      "Epoch 141/150\n",
      "3/3 [==============================] - 0s 14ms/step - loss: 0.0985 - val_loss: 0.0797\n",
      "Epoch 142/150\n",
      "3/3 [==============================] - 0s 18ms/step - loss: 0.0833 - val_loss: 0.0904\n",
      "Epoch 143/150\n",
      "3/3 [==============================] - 0s 14ms/step - loss: 0.0844 - val_loss: 0.0781\n",
      "Epoch 144/150\n",
      "3/3 [==============================] - 0s 13ms/step - loss: 0.0841 - val_loss: 0.0813\n",
      "Epoch 145/150\n",
      "3/3 [==============================] - 0s 13ms/step - loss: 0.0867 - val_loss: 0.0769\n",
      "Epoch 146/150\n",
      "3/3 [==============================] - 0s 16ms/step - loss: 0.0947 - val_loss: 0.0750\n",
      "Epoch 147/150\n",
      "3/3 [==============================] - 0s 14ms/step - loss: 0.0862 - val_loss: 0.1043\n",
      "Epoch 148/150\n",
      "3/3 [==============================] - 0s 13ms/step - loss: 0.1031 - val_loss: 0.0923\n",
      "Epoch 149/150\n",
      "3/3 [==============================] - 0s 18ms/step - loss: 0.0894 - val_loss: 0.0787\n",
      "Epoch 150/150\n",
      "3/3 [==============================] - 0s 18ms/step - loss: 0.0834 - val_loss: 0.1073\n"
     ]
    }
   ],
   "source": [
    "history = model.fit(X_train, y_train,validation_data=(X_valid,y_valid), epochs=150)"
   ]
  },
  {
   "cell_type": "code",
   "execution_count": 39,
   "id": "a2682ca4",
   "metadata": {},
   "outputs": [
    {
     "data": {
      "text/plain": [
       "{'loss': [32.06968307495117,\n",
       "  0.8096756935119629,\n",
       "  0.32753124833106995,\n",
       "  0.2551247477531433,\n",
       "  0.22400698065757751,\n",
       "  0.17536570131778717,\n",
       "  0.16104860603809357,\n",
       "  0.14423741400241852,\n",
       "  0.13482575118541718,\n",
       "  0.12261100858449936,\n",
       "  0.11697974056005478,\n",
       "  0.1088276132941246,\n",
       "  0.11330024152994156,\n",
       "  0.10050715506076813,\n",
       "  0.11098547279834747,\n",
       "  0.10222289711236954,\n",
       "  0.10044900327920914,\n",
       "  0.09090138971805573,\n",
       "  0.09812356531620026,\n",
       "  0.08783755451440811,\n",
       "  0.08851325511932373,\n",
       "  0.0867222398519516,\n",
       "  0.0889003574848175,\n",
       "  0.08775041997432709,\n",
       "  0.09744040668010712,\n",
       "  0.08729227632284164,\n",
       "  0.08432875573635101,\n",
       "  0.08599351346492767,\n",
       "  0.08711544424295425,\n",
       "  0.0928909033536911,\n",
       "  0.08445046097040176,\n",
       "  0.08698306977748871,\n",
       "  0.08329564332962036,\n",
       "  0.09111180156469345,\n",
       "  0.08615227788686752,\n",
       "  0.09367716312408447,\n",
       "  0.08873067796230316,\n",
       "  0.0833815187215805,\n",
       "  0.0879616066813469,\n",
       "  0.08727617561817169,\n",
       "  0.08910217881202698,\n",
       "  0.08821000903844833,\n",
       "  0.08408589661121368,\n",
       "  0.08361726999282837,\n",
       "  0.0837000235915184,\n",
       "  0.08568088710308075,\n",
       "  0.08464861661195755,\n",
       "  0.0836331769824028,\n",
       "  0.09431175887584686,\n",
       "  0.08881724625825882,\n",
       "  0.08567889779806137,\n",
       "  0.08403491228818893,\n",
       "  0.10588036477565765,\n",
       "  0.0885520726442337,\n",
       "  0.10711042582988739,\n",
       "  0.08427874743938446,\n",
       "  0.08397256582975388,\n",
       "  0.08973436057567596,\n",
       "  0.08446387201547623,\n",
       "  0.1010572537779808,\n",
       "  0.09171803295612335,\n",
       "  0.08602607250213623,\n",
       "  0.09004517644643784,\n",
       "  0.08526492863893509,\n",
       "  0.09015148133039474,\n",
       "  0.08905718475580215,\n",
       "  0.0890088826417923,\n",
       "  0.08991962671279907,\n",
       "  0.08407759666442871,\n",
       "  0.09409772604703903,\n",
       "  0.0873313695192337,\n",
       "  0.08530666679143906,\n",
       "  0.09007835388183594,\n",
       "  0.11586248874664307,\n",
       "  0.08397001773118973,\n",
       "  0.09173628687858582,\n",
       "  0.08765958994626999,\n",
       "  0.08308915048837662,\n",
       "  0.09417670220136642,\n",
       "  0.08366231620311737,\n",
       "  0.08350146561861038,\n",
       "  0.08581193536520004,\n",
       "  0.08908460289239883,\n",
       "  0.08651816099882126,\n",
       "  0.08448527753353119,\n",
       "  0.08504097163677216,\n",
       "  0.08613844215869904,\n",
       "  0.09299742430448532,\n",
       "  0.08841130882501602,\n",
       "  0.08464142680168152,\n",
       "  0.0859779566526413,\n",
       "  0.08345053344964981,\n",
       "  0.08263541013002396,\n",
       "  0.08763344585895538,\n",
       "  0.08310846984386444,\n",
       "  0.08871857821941376,\n",
       "  0.0828072652220726,\n",
       "  0.08356119692325592,\n",
       "  0.09083838015794754,\n",
       "  0.10074090957641602,\n",
       "  0.09315066784620285,\n",
       "  0.08551474660634995,\n",
       "  0.08475272357463837,\n",
       "  0.08377792686223984,\n",
       "  0.08613242208957672,\n",
       "  0.0845656618475914,\n",
       "  0.0955880805850029,\n",
       "  0.0866394191980362,\n",
       "  0.08918749541044235,\n",
       "  0.08621630817651749,\n",
       "  0.09309036284685135,\n",
       "  0.08631034195423126,\n",
       "  0.09162497520446777,\n",
       "  0.08890499174594879,\n",
       "  0.08315198123455048,\n",
       "  0.09158464521169662,\n",
       "  0.08286410570144653,\n",
       "  0.08565938472747803,\n",
       "  0.0839049443602562,\n",
       "  0.0963338315486908,\n",
       "  0.09297223389148712,\n",
       "  0.08392481505870819,\n",
       "  0.09561087936162949,\n",
       "  0.09882699698209763,\n",
       "  0.11606249958276749,\n",
       "  0.08681856095790863,\n",
       "  0.08616989105939865,\n",
       "  0.08356187492609024,\n",
       "  0.08314119279384613,\n",
       "  0.08282724767923355,\n",
       "  0.083339162170887,\n",
       "  0.08311643451452255,\n",
       "  0.0890486016869545,\n",
       "  0.08680982887744904,\n",
       "  0.08323997259140015,\n",
       "  0.08393141627311707,\n",
       "  0.08539912104606628,\n",
       "  0.08289243280887604,\n",
       "  0.08597728610038757,\n",
       "  0.08843580633401871,\n",
       "  0.09850259125232697,\n",
       "  0.08325520157814026,\n",
       "  0.0843585729598999,\n",
       "  0.0840543583035469,\n",
       "  0.08668163418769836,\n",
       "  0.09468238800764084,\n",
       "  0.08620412647724152,\n",
       "  0.10312136262655258,\n",
       "  0.0893762856721878,\n",
       "  0.08344139158725739],\n",
       " 'val_loss': [1.7477811574935913,\n",
       "  0.5277441740036011,\n",
       "  0.3428409695625305,\n",
       "  0.25363484025001526,\n",
       "  0.24106916785240173,\n",
       "  0.2247696816921234,\n",
       "  0.18390780687332153,\n",
       "  0.1954069584608078,\n",
       "  0.1708596646785736,\n",
       "  0.15426714718341827,\n",
       "  0.1518922746181488,\n",
       "  0.11835546791553497,\n",
       "  0.12438873201608658,\n",
       "  0.175339937210083,\n",
       "  0.15240612626075745,\n",
       "  0.11281858384609222,\n",
       "  0.10031858831644058,\n",
       "  0.16653375327587128,\n",
       "  0.11066152900457382,\n",
       "  0.09428898990154266,\n",
       "  0.10167735815048218,\n",
       "  0.09962216764688492,\n",
       "  0.11188401281833649,\n",
       "  0.0834348276257515,\n",
       "  0.08474799245595932,\n",
       "  0.08237096667289734,\n",
       "  0.11312971264123917,\n",
       "  0.09285569190979004,\n",
       "  0.0996178537607193,\n",
       "  0.10102112591266632,\n",
       "  0.102359339594841,\n",
       "  0.10656875371932983,\n",
       "  0.08135886490345001,\n",
       "  0.08401339501142502,\n",
       "  0.12199926376342773,\n",
       "  0.11118650436401367,\n",
       "  0.0792655497789383,\n",
       "  0.10994930565357208,\n",
       "  0.09439003467559814,\n",
       "  0.1369345486164093,\n",
       "  0.09652862697839737,\n",
       "  0.09106121212244034,\n",
       "  0.08077193796634674,\n",
       "  0.12145097553730011,\n",
       "  0.07642512023448944,\n",
       "  0.1067991703748703,\n",
       "  0.08846841007471085,\n",
       "  0.10332989692687988,\n",
       "  0.10149995982646942,\n",
       "  0.09042765945196152,\n",
       "  0.08111342042684555,\n",
       "  0.08070031553506851,\n",
       "  0.08148100227117538,\n",
       "  0.07607308775186539,\n",
       "  0.07701531797647476,\n",
       "  0.09722192585468292,\n",
       "  0.09658704698085785,\n",
       "  0.12911950051784515,\n",
       "  0.07739271223545074,\n",
       "  0.10906918346881866,\n",
       "  0.10310469567775726,\n",
       "  0.108225978910923,\n",
       "  0.09042420983314514,\n",
       "  0.07627417892217636,\n",
       "  0.07820840179920197,\n",
       "  0.12979789078235626,\n",
       "  0.07845256477594376,\n",
       "  0.09084411710500717,\n",
       "  0.1295468509197235,\n",
       "  0.08814795315265656,\n",
       "  0.07909209281206131,\n",
       "  0.0976523905992508,\n",
       "  0.1266213357448578,\n",
       "  0.093610979616642,\n",
       "  0.07522398978471756,\n",
       "  0.07558105140924454,\n",
       "  0.08906616270542145,\n",
       "  0.09710265696048737,\n",
       "  0.07729874551296234,\n",
       "  0.0988941565155983,\n",
       "  0.08639390766620636,\n",
       "  0.11580026149749756,\n",
       "  0.07497723400592804,\n",
       "  0.10942312330007553,\n",
       "  0.08031022548675537,\n",
       "  0.08118952810764313,\n",
       "  0.07584176957607269,\n",
       "  0.09890095144510269,\n",
       "  0.08677802979946136,\n",
       "  0.0794939249753952,\n",
       "  0.08712209016084671,\n",
       "  0.10062215477228165,\n",
       "  0.07601122558116913,\n",
       "  0.09185963124036789,\n",
       "  0.08186664432287216,\n",
       "  0.09443594515323639,\n",
       "  0.08004110306501389,\n",
       "  0.10934527218341827,\n",
       "  0.07907327264547348,\n",
       "  0.08431901782751083,\n",
       "  0.0815250352025032,\n",
       "  0.0967857614159584,\n",
       "  0.10848627239465714,\n",
       "  0.0768694058060646,\n",
       "  0.07905614376068115,\n",
       "  0.0776490569114685,\n",
       "  0.07872796058654785,\n",
       "  0.10899074375629425,\n",
       "  0.09532102197408676,\n",
       "  0.10716883093118668,\n",
       "  0.11568288505077362,\n",
       "  0.08485046029090881,\n",
       "  0.08000630885362625,\n",
       "  0.10371826589107513,\n",
       "  0.07590089738368988,\n",
       "  0.08266937732696533,\n",
       "  0.09573344886302948,\n",
       "  0.09741850942373276,\n",
       "  0.09955859184265137,\n",
       "  0.0756487101316452,\n",
       "  0.08699162304401398,\n",
       "  0.09631182253360748,\n",
       "  0.09278003871440887,\n",
       "  0.08398570120334625,\n",
       "  0.07519980520009995,\n",
       "  0.10020673274993896,\n",
       "  0.09425446391105652,\n",
       "  0.09385893493890762,\n",
       "  0.08010895550251007,\n",
       "  0.1001787930727005,\n",
       "  0.08082052320241928,\n",
       "  0.08777684718370438,\n",
       "  0.1138288825750351,\n",
       "  0.08940476179122925,\n",
       "  0.0781499370932579,\n",
       "  0.08840800076723099,\n",
       "  0.08805958926677704,\n",
       "  0.08715471625328064,\n",
       "  0.0770178958773613,\n",
       "  0.10957733541727066,\n",
       "  0.07970224320888519,\n",
       "  0.09042094647884369,\n",
       "  0.07806319743394852,\n",
       "  0.08133022487163544,\n",
       "  0.07694526016712189,\n",
       "  0.07499627023935318,\n",
       "  0.10425535589456558,\n",
       "  0.09227307140827179,\n",
       "  0.07867064327001572,\n",
       "  0.10726664960384369]}"
      ]
     },
     "execution_count": 39,
     "metadata": {},
     "output_type": "execute_result"
    }
   ],
   "source": [
    "history.history"
   ]
  },
  {
   "cell_type": "code",
   "execution_count": 40,
   "id": "35573822",
   "metadata": {},
   "outputs": [
    {
     "data": {
      "image/png": "[encoded data removed]",
      "text/plain": [
       "<Figure size 640x480 with 1 Axes>"
      ]
     },
     "metadata": {},
     "output_type": "display_data"
    }
   ],
   "source": [
    "plt.plot(history.history['loss'])\n",
    "plt.plot(history.history['val_loss'])\n",
    "plt.grid(True)\n",
    "plt.show()"
   ]
  },
  {
   "cell_type": "code",
   "execution_count": 41,
   "id": "4e163fad",
   "metadata": {},
   "outputs": [
    {
     "name": "stdout",
     "output_type": "stream",
     "text": [
      "Model: \"sequential_2\"\n",
      "_________________________________________________________________\n",
      "Layer (type)                 Output Shape              Param #   \n",
      "=================================================================\n",
      "dense_2 (Dense)              (None, 3)                 6         \n",
      "_________________________________________________________________\n",
      "dense_3 (Dense)              (None, 2)                 8         \n",
      "_________________________________________________________________\n",
      "dense_4 (Dense)              (None, 1)                 3         \n",
      "=================================================================\n",
      "Total params: 17\n",
      "Trainable params: 17\n",
      "Non-trainable params: 0\n",
      "_________________________________________________________________\n"
     ]
    }
   ],
   "source": [
    "model.summary()"
   ]
  },
  {
   "cell_type": "code",
   "execution_count": 81,
   "id": "4b8c553f",
   "metadata": {},
   "outputs": [],
   "source": [
    "X_new = np.array([[0], [1], [2]])"
   ]
  },
  {
   "cell_type": "code",
   "execution_count": 72,
   "id": "9de7d361",
   "metadata": {},
   "outputs": [
    {
     "name": "stdout",
     "output_type": "stream",
     "text": [
      "WARNING:tensorflow:5 out of the last 6 calls to <function Model.make_predict_function.<locals>.predict_function at 0x7f1de00f59d0> triggered tf.function retracing. Tracing is expensive and the excessive number of tracings could be due to (1) creating @tf.function repeatedly in a loop, (2) passing tensors with different shapes, (3) passing Python objects instead of tensors. For (1), please define your @tf.function outside of the loop. For (2), @tf.function has experimental_relax_shapes=True option that relaxes argument shapes that can avoid unnecessary retracing. For (3), please refer to https://www.tensorflow.org/guide/function#controlling_retracing and https://www.tensorflow.org/api_docs/python/tf/function for  more details.\n"
     ]
    }
   ],
   "source": [
    "y_pred = model.predict(X_new)"
   ]
  },
  {
   "cell_type": "code",
   "execution_count": 74,
   "id": "6144ffd0",
   "metadata": {},
   "outputs": [
    {
     "data": {
      "image/png": "[encoded data removed]",
      "text/plain": [
       "<Figure size 640x480 with 1 Axes>"
      ]
     },
     "metadata": {},
     "output_type": "display_data"
    }
   ],
   "source": [
    "plt.plot(X, y,'b.')\n",
    "plt.plot(X_new, y_pred,'r-')\n",
    "plt.show()"
   ]
  },
  {
   "cell_type": "code",
   "execution_count": null,
   "id": "55f645f8",
   "metadata": {},
   "outputs": [],
   "source": []
  },
  {
   "cell_type": "code",
   "execution_count": null,
   "id": "c482ebfc",
   "metadata": {},
   "outputs": [],
   "source": []
  },
  {
   "cell_type": "code",
   "execution_count": null,
   "id": "d700c2c2",
   "metadata": {},
   "outputs": [],
   "source": []
  },
  {
   "cell_type": "code",
   "execution_count": null,
   "id": "c23aef72",
   "metadata": {},
   "outputs": [],
   "source": []
  },
  {
   "cell_type": "code",
   "execution_count": null,
   "id": "0f2d37e1",
   "metadata": {},
   "outputs": [],
   "source": []
  },
  {
   "cell_type": "code",
   "execution_count": null,
   "id": "3a922724",
   "metadata": {},
   "outputs": [],
   "source": []
  },
  {
   "cell_type": "code",
   "execution_count": null,
   "id": "d4ddd4ec",
   "metadata": {},
   "outputs": [],
   "source": []
  },
  {
   "cell_type": "markdown",
   "id": "534f8636",
   "metadata": {},
   "source": [
    "#### 다항 회귀(2차), y = a + bx + cx^2"
   ]
  },
  {
   "cell_type": "code",
   "execution_count": null,
   "id": "d9cc9e90",
   "metadata": {},
   "outputs": [],
   "source": [
    "import tensorflow as tf\n",
    "from tensorflow import keras\n",
    "\n",
    "import numpy as np\n",
    "import matplotlib.pyplot as plt\n",
    "import matplotlib as mpl\n",
    "mpl.rcParams.update(mpl.rcParamsDefault)"
   ]
  },
  {
   "cell_type": "code",
   "execution_count": 151,
   "id": "f0f57ae0",
   "metadata": {},
   "outputs": [],
   "source": [
    "model = keras.models.Sequential([\n",
    "    keras.layers.Dense(1, input_shape=(None,2))\n",
    "])"
   ]
  },
  {
   "cell_type": "code",
   "execution_count": 152,
   "id": "4f351a58",
   "metadata": {},
   "outputs": [],
   "source": [
    "model.compile(loss=\"mean_squared_error\", optimizer=\"sgd\")"
   ]
  },
  {
   "cell_type": "code",
   "execution_count": 153,
   "id": "34de0061",
   "metadata": {},
   "outputs": [],
   "source": []
  },
  {
   "cell_type": "code",
   "execution_count": 154,
   "id": "e417f1e3",
   "metadata": {},
   "outputs": [],
   "source": [
    "X = 2 * np.random.rand(100, 1)\n",
    "y = 4 + 3 * X + 2 * X**2 + np.random.rand(100,1) - 0.5"
   ]
  },
  {
   "cell_type": "code",
   "execution_count": 155,
   "id": "4eb6a877",
   "metadata": {},
   "outputs": [],
   "source": [
    "X2 = X**2"
   ]
  },
  {
   "cell_type": "code",
   "execution_count": 156,
   "id": "fe5c653a",
   "metadata": {},
   "outputs": [
    {
     "data": {
      "text/plain": [
       "(100, 1)"
      ]
     },
     "execution_count": 156,
     "metadata": {},
     "output_type": "execute_result"
    }
   ],
   "source": [
    "X2.shape"
   ]
  },
  {
   "cell_type": "code",
   "execution_count": 157,
   "id": "dca3ac3c",
   "metadata": {},
   "outputs": [],
   "source": [
    "X_total = np.concatenate((X, X2), axis=1)"
   ]
  },
  {
   "cell_type": "code",
   "execution_count": 158,
   "id": "e79f55bb",
   "metadata": {
    "collapsed": true,
    "jupyter": {
     "outputs_hidden": true
    }
   },
   "outputs": [
    {
     "name": "stdout",
     "output_type": "stream",
     "text": [
      "Epoch 1/50\n",
      "WARNING:tensorflow:Model was constructed with shape (None, None, 2) for input KerasTensor(type_spec=TensorSpec(shape=(None, None, 2), dtype=tf.float32, name='dense_20_input'), name='dense_20_input', description=\"created by layer 'dense_20_input'\"), but it was called on an input with incompatible shape (None, 2).\n",
      "WARNING:tensorflow:Model was constructed with shape (None, None, 2) for input KerasTensor(type_spec=TensorSpec(shape=(None, None, 2), dtype=tf.float32, name='dense_20_input'), name='dense_20_input', description=\"created by layer 'dense_20_input'\"), but it was called on an input with incompatible shape (None, 2).\n",
      "4/4 [==============================] - 0s 3ms/step - loss: 79.9322\n",
      "Epoch 2/50\n",
      "4/4 [==============================] - 0s 3ms/step - loss: 36.0394\n",
      "Epoch 3/50\n",
      "4/4 [==============================] - 0s 2ms/step - loss: 16.4617\n",
      "Epoch 4/50\n",
      "4/4 [==============================] - 0s 2ms/step - loss: 7.7091\n",
      "Epoch 5/50\n",
      "4/4 [==============================] - 0s 2ms/step - loss: 4.8003\n",
      "Epoch 6/50\n",
      "4/4 [==============================] - 0s 3ms/step - loss: 3.6845\n",
      "Epoch 7/50\n",
      "4/4 [==============================] - 0s 2ms/step - loss: 3.1909\n",
      "Epoch 8/50\n",
      "4/4 [==============================] - 0s 2ms/step - loss: 2.8401\n",
      "Epoch 9/50\n",
      "4/4 [==============================] - 0s 2ms/step - loss: 2.6346\n",
      "Epoch 10/50\n",
      "4/4 [==============================] - 0s 3ms/step - loss: 2.5037\n",
      "Epoch 11/50\n",
      "4/4 [==============================] - 0s 3ms/step - loss: 2.3239\n",
      "Epoch 12/50\n",
      "4/4 [==============================] - 0s 3ms/step - loss: 2.1897\n",
      "Epoch 13/50\n",
      "4/4 [==============================] - 0s 3ms/step - loss: 2.0718\n",
      "Epoch 14/50\n",
      "4/4 [==============================] - 0s 3ms/step - loss: 1.9657\n",
      "Epoch 15/50\n",
      "4/4 [==============================] - 0s 3ms/step - loss: 1.8597\n",
      "Epoch 16/50\n",
      "4/4 [==============================] - 0s 3ms/step - loss: 1.7339\n",
      "Epoch 17/50\n",
      "4/4 [==============================] - 0s 3ms/step - loss: 1.6222\n",
      "Epoch 18/50\n",
      "4/4 [==============================] - 0s 3ms/step - loss: 1.5511\n",
      "Epoch 19/50\n",
      "4/4 [==============================] - 0s 3ms/step - loss: 1.4531\n",
      "Epoch 20/50\n",
      "4/4 [==============================] - 0s 3ms/step - loss: 1.3716\n",
      "Epoch 21/50\n",
      "4/4 [==============================] - 0s 3ms/step - loss: 1.2850\n",
      "Epoch 22/50\n",
      "4/4 [==============================] - 0s 3ms/step - loss: 1.2238\n",
      "Epoch 23/50\n",
      "4/4 [==============================] - 0s 3ms/step - loss: 1.1576\n",
      "Epoch 24/50\n",
      "4/4 [==============================] - 0s 3ms/step - loss: 1.0897\n",
      "Epoch 25/50\n",
      "4/4 [==============================] - 0s 2ms/step - loss: 1.0428\n",
      "Epoch 26/50\n",
      "4/4 [==============================] - 0s 3ms/step - loss: 0.9796\n",
      "Epoch 27/50\n",
      "4/4 [==============================] - 0s 3ms/step - loss: 0.9279\n",
      "Epoch 28/50\n",
      "4/4 [==============================] - 0s 3ms/step - loss: 0.8759\n",
      "Epoch 29/50\n",
      "4/4 [==============================] - 0s 3ms/step - loss: 0.8285\n",
      "Epoch 30/50\n",
      "4/4 [==============================] - 0s 3ms/step - loss: 0.7919\n",
      "Epoch 31/50\n",
      "4/4 [==============================] - 0s 2ms/step - loss: 0.7446\n",
      "Epoch 32/50\n",
      "4/4 [==============================] - 0s 3ms/step - loss: 0.7077\n",
      "Epoch 33/50\n",
      "4/4 [==============================] - 0s 3ms/step - loss: 0.6672\n",
      "Epoch 34/50\n",
      "4/4 [==============================] - 0s 3ms/step - loss: 0.6351\n",
      "Epoch 35/50\n",
      "4/4 [==============================] - 0s 3ms/step - loss: 0.6041\n",
      "Epoch 36/50\n",
      "4/4 [==============================] - 0s 2ms/step - loss: 0.5747\n",
      "Epoch 37/50\n",
      "4/4 [==============================] - 0s 2ms/step - loss: 0.5490\n",
      "Epoch 38/50\n",
      "4/4 [==============================] - 0s 3ms/step - loss: 0.5228\n",
      "Epoch 39/50\n",
      "4/4 [==============================] - 0s 2ms/step - loss: 0.4980\n",
      "Epoch 40/50\n",
      "4/4 [==============================] - 0s 2ms/step - loss: 0.4755\n",
      "Epoch 41/50\n",
      "4/4 [==============================] - 0s 2ms/step - loss: 0.4533\n",
      "Epoch 42/50\n",
      "4/4 [==============================] - 0s 2ms/step - loss: 0.4304\n",
      "Epoch 43/50\n",
      "4/4 [==============================] - 0s 2ms/step - loss: 0.4148\n",
      "Epoch 44/50\n",
      "4/4 [==============================] - 0s 2ms/step - loss: 0.3945\n",
      "Epoch 45/50\n",
      "4/4 [==============================] - 0s 3ms/step - loss: 0.3774\n",
      "Epoch 46/50\n",
      "4/4 [==============================] - 0s 2ms/step - loss: 0.3589\n",
      "Epoch 47/50\n",
      "4/4 [==============================] - 0s 2ms/step - loss: 0.3393\n",
      "Epoch 48/50\n",
      "4/4 [==============================] - 0s 2ms/step - loss: 0.3256\n",
      "Epoch 49/50\n",
      "4/4 [==============================] - 0s 2ms/step - loss: 0.3111\n",
      "Epoch 50/50\n",
      "4/4 [==============================] - 0s 2ms/step - loss: 0.2977\n"
     ]
    }
   ],
   "source": [
    "history = model.fit(X_total, y, epochs=50)"
   ]
  },
  {
   "cell_type": "code",
   "execution_count": 170,
   "id": "e1e0fcfb",
   "metadata": {},
   "outputs": [
    {
     "data": {
      "image/png": "[encoded data removed]",
      "text/plain": [
       "<Figure size 640x480 with 1 Axes>"
      ]
     },
     "metadata": {},
     "output_type": "display_data"
    }
   ],
   "source": [
    "plt.plot(history.history['loss'])\n",
    "plt.grid(True)\n",
    "plt.show()"
   ]
  },
  {
   "cell_type": "code",
   "execution_count": 159,
   "id": "a0d73960",
   "metadata": {},
   "outputs": [
    {
     "name": "stdout",
     "output_type": "stream",
     "text": [
      "Model: \"sequential_11\"\n",
      "_________________________________________________________________\n",
      "Layer (type)                 Output Shape              Param #   \n",
      "=================================================================\n",
      "dense_20 (Dense)             (None, None, 1)           3         \n",
      "=================================================================\n",
      "Total params: 3\n",
      "Trainable params: 3\n",
      "Non-trainable params: 0\n",
      "_________________________________________________________________\n"
     ]
    }
   ],
   "source": [
    "model.summary()"
   ]
  },
  {
   "cell_type": "code",
   "execution_count": 160,
   "id": "5d67c39d",
   "metadata": {},
   "outputs": [
    {
     "name": "stdout",
     "output_type": "stream",
     "text": [
      "(50, 1)\n"
     ]
    }
   ],
   "source": [
    "X_new = np.linspace(0, 2)\n",
    "X_new = np.expand_dims(X_new, axis=1)\n",
    "print(X_new.shape)"
   ]
  },
  {
   "cell_type": "code",
   "execution_count": 161,
   "id": "81ba1182",
   "metadata": {},
   "outputs": [],
   "source": [
    "X_new2 = X_new**2"
   ]
  },
  {
   "cell_type": "code",
   "execution_count": 162,
   "id": "caa032c9",
   "metadata": {},
   "outputs": [],
   "source": [
    "X_new = np.concatenate((X_new, X_new2), axis=1)"
   ]
  },
  {
   "cell_type": "code",
   "execution_count": 163,
   "id": "51f4a841",
   "metadata": {},
   "outputs": [
    {
     "name": "stdout",
     "output_type": "stream",
     "text": [
      "WARNING:tensorflow:Model was constructed with shape (None, None, 2) for input KerasTensor(type_spec=TensorSpec(shape=(None, None, 2), dtype=tf.float32, name='dense_20_input'), name='dense_20_input', description=\"created by layer 'dense_20_input'\"), but it was called on an input with incompatible shape (None, 2).\n"
     ]
    }
   ],
   "source": [
    "y_pred = model.predict(X_new)"
   ]
  },
  {
   "cell_type": "code",
   "execution_count": 166,
   "id": "3c5c8b6c",
   "metadata": {},
   "outputs": [
    {
     "data": {
      "image/png": "[encoded data removed]",
      "text/plain": [
       "<Figure size 640x480 with 1 Axes>"
      ]
     },
     "metadata": {},
     "output_type": "display_data"
    }
   ],
   "source": [
    "plt.plot(X, y,'b.')\n",
    "plt.plot(X_new[:,0], y_pred,'r-')\n",
    "plt.show()"
   ]
  },
  {
   "cell_type": "code",
   "execution_count": null,
   "id": "81ee5798",
   "metadata": {},
   "outputs": [],
   "source": []
  },
  {
   "cell_type": "code",
   "execution_count": null,
   "id": "e5db9742",
   "metadata": {},
   "outputs": [],
   "source": []
  },
  {
   "cell_type": "code",
   "execution_count": null,
   "id": "7f0357e9",
   "metadata": {},
   "outputs": [],
   "source": []
  },
  {
   "cell_type": "code",
   "execution_count": null,
   "id": "9efadb83",
   "metadata": {},
   "outputs": [],
   "source": []
  },
  {
   "cell_type": "code",
   "execution_count": null,
   "id": "44bb1bc4",
   "metadata": {},
   "outputs": [],
   "source": []
  },
  {
   "cell_type": "code",
   "execution_count": null,
   "id": "e9e4dd66",
   "metadata": {},
   "outputs": [],
   "source": []
  },
  {
   "cell_type": "markdown",
   "id": "e1f1aa30",
   "metadata": {},
   "source": [
    "### 순전파 실습"
   ]
  },
  {
   "cell_type": "code",
   "execution_count": 1,
   "id": "e65d68bb",
   "metadata": {},
   "outputs": [],
   "source": [
    "import numpy as np"
   ]
  },
  {
   "cell_type": "code",
   "execution_count": 8,
   "id": "de167656",
   "metadata": {},
   "outputs": [
    {
     "name": "stdout",
     "output_type": "stream",
     "text": [
      "0.075\n"
     ]
    }
   ],
   "source": [
    "a = 0.5*0.15\n",
    "print(a)"
   ]
  },
  {
   "cell_type": "code",
   "execution_count": 9,
   "id": "e0c0a4f6",
   "metadata": {},
   "outputs": [
    {
     "name": "stdout",
     "output_type": "stream",
     "text": [
      "0.5187412158785352\n"
     ]
    }
   ],
   "source": [
    "b = 1/(1+np.exp(-a))\n",
    "print(b)"
   ]
  },
  {
   "cell_type": "code",
   "execution_count": 11,
   "id": "3d54c30e",
   "metadata": {},
   "outputs": [
    {
     "name": "stdout",
     "output_type": "stream",
     "text": [
      "0.20749648635141407\n"
     ]
    }
   ],
   "source": [
    "c = b*0.4\n",
    "print(c)"
   ]
  },
  {
   "cell_type": "code",
   "execution_count": 13,
   "id": "052d8d08",
   "metadata": {},
   "outputs": [
    {
     "name": "stdout",
     "output_type": "stream",
     "text": [
      "0.2358\n"
     ]
    }
   ],
   "source": [
    "d = 0.524*0.45\n",
    "print(d)"
   ]
  },
  {
   "cell_type": "code",
   "execution_count": 15,
   "id": "a084167e",
   "metadata": {},
   "outputs": [
    {
     "name": "stdout",
     "output_type": "stream",
     "text": [
      "0.6090442365249435\n"
     ]
    }
   ],
   "source": [
    "e = 1/(1+np.exp(-(c+d)))\n",
    "print(e)"
   ]
  },
  {
   "cell_type": "code",
   "execution_count": null,
   "id": "89f40dc6",
   "metadata": {},
   "outputs": [],
   "source": []
  },
  {
   "cell_type": "code",
   "execution_count": null,
   "id": "159cfc1a",
   "metadata": {},
   "outputs": [],
   "source": []
  },
  {
   "cell_type": "code",
   "execution_count": null,
   "id": "6adadd1f",
   "metadata": {},
   "outputs": [],
   "source": []
  },
  {
   "cell_type": "code",
   "execution_count": null,
   "id": "df92527d",
   "metadata": {},
   "outputs": [],
   "source": []
  },
  {
   "cell_type": "code",
   "execution_count": null,
   "id": "12175e05",
   "metadata": {},
   "outputs": [],
   "source": []
  }
 ],
 "metadata": {
  "kernelspec": {
   "display_name": "Python 3 (Notebook)",
   "language": "python",
   "name": "python3"
  },
  "language_info": {
   "codemirror_mode": {
    "name": "ipython",
    "version": 3
   },
   "file_extension": ".py",
   "mimetype": "text/x-python",
   "name": "python",
   "nbconvert_exporter": "python",
   "pygments_lexer": "ipython3",
   "version": "3.8.10"
  }
 },
 "nbformat": 4,
 "nbformat_minor": 5
}
