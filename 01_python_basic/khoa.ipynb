{
 "cells": [
  {
   "cell_type": "code",
   "execution_count": 363,
   "id": "672f00cd",
   "metadata": {},
   "outputs": [],
   "source": [
    "import numpy as np\n",
    "import pandas as pd\n",
    "import os\n",
    "\n",
    "from datetime import datetime"
   ]
  },
  {
   "cell_type": "code",
   "execution_count": 397,
   "id": "70035c07",
   "metadata": {},
   "outputs": [],
   "source": [
    "def path_khoa(dir_path):\n",
    "    file_list_temp = os.listdir(dir_path)\n",
    "    file_path_list = []\n",
    "    for file_name in file_list_temp:\n",
    "        if \".txt\" in file_name:\n",
    "            file_path = os.path.join(dir_path, file_name)\n",
    "            file_path_list.append(file_path)\n",
    "    \n",
    "    file_path_list.sort()\n",
    "    \n",
    "    return file_path_list"
   ]
  },
  {
   "cell_type": "code",
   "execution_count": 400,
   "id": "ea8f9c07",
   "metadata": {},
   "outputs": [],
   "source": [
    "def load_khoa(path):\n",
    "    f = open(path)\n",
    "    \n",
    "    line = f.readline()\n",
    "    site_name = line[6:-1]\n",
    "    \n",
    "    line = f.readline()\n",
    "    lat = line[3:-1]\n",
    "    \n",
    "    line = f.readline()\n",
    "    lon = line[3:-1]\n",
    "    \n",
    "    line = f.readline()\n",
    "    header = line.split()\n",
    "    \n",
    "    data = np.empty((0,8))\n",
    "    \n",
    "    date_time = []\n",
    "    \n",
    "    while(True):\n",
    "        line = f.readline()\n",
    "        if len(line)==0:\n",
    "            break\n",
    "        line_data = line.split()\n",
    "        \n",
    "        date = line_data[0]\n",
    "        time_t = line_data[1]\n",
    "        \n",
    "        year = int(date[:4])\n",
    "        month = int(date[5:7])\n",
    "        day = int(date[8:10])\n",
    "        hour = int(time_t[:2])\n",
    "        minute = int(time_t[3:5])\n",
    "        \n",
    "        date_time.append(np.datetime64(datetime(year, month, day, hour, minute)))\n",
    "        \n",
    "        extracted = [line_data[2], line_data[4], line_data[5], line_data[6], line_data[7], line_data[8], line_data[9], line_data[10]]\n",
    "        np_extracted = np.array(extracted)\n",
    "        np_extracted[np.where(np_extracted=='-')] = np.nan\n",
    "        np_double = np_extracted.astype('double')\n",
    "        np_double_ex = np.expand_dims(np_double, axis=0)\n",
    "        data = np.append(data, np_double_ex, axis=0)\n",
    "    \n",
    "    f.close()\n",
    "    \n",
    "    return header, date_time, data"
   ]
  }
 ],
 "metadata": {
  "kernelspec": {
   "display_name": "Python 3 (Notebook)",
   "language": "python",
   "name": "python3"
  },
  "language_info": {
   "codemirror_mode": {
    "name": "ipython",
    "version": 3
   },
   "file_extension": ".py",
   "mimetype": "text/x-python",
   "name": "python",
   "nbconvert_exporter": "python",
   "pygments_lexer": "ipython3",
   "version": "3.8.10"
  }
 },
 "nbformat": 4,
 "nbformat_minor": 5
}
