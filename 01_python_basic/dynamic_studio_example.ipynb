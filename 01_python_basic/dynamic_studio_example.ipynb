{
 "cells": [
  {
   "cell_type": "code",
   "execution_count": 1,
   "id": "52d27a8c",
   "metadata": {},
   "outputs": [
    {
     "name": "stdout",
     "output_type": "stream",
     "text": [
      "importing Jupyter notebook from dynamic_studio.ipynb\n"
     ]
    }
   ],
   "source": [
    "import import_ipynb\n",
    "import dynamic_studio as ds"
   ]
  },
  {
   "cell_type": "code",
   "execution_count": 2,
   "id": "6d55d9f3",
   "metadata": {},
   "outputs": [],
   "source": [
    "dir_path = '../data/flow_field/velocity'"
   ]
  },
  {
   "cell_type": "code",
   "execution_count": 4,
   "id": "8f8948d5",
   "metadata": {},
   "outputs": [],
   "source": [
    "file_path_list = ds.path_ds(dir_path)"
   ]
  },
  {
   "cell_type": "code",
   "execution_count": 5,
   "id": "a35ca600",
   "metadata": {},
   "outputs": [
    {
     "data": {
      "text/plain": [
       "'data/flow_field/velocity/vel000000.txt'"
      ]
     },
     "execution_count": 5,
     "metadata": {},
     "output_type": "execute_result"
    }
   ],
   "source": [
    "file_path_list[0]"
   ]
  },
  {
   "cell_type": "code",
   "execution_count": 6,
   "id": "2b7bffe8",
   "metadata": {},
   "outputs": [],
   "source": [
    "import pandas as pd"
   ]
  },
  {
   "cell_type": "code",
   "execution_count": 14,
   "id": "22dd4d11",
   "metadata": {},
   "outputs": [],
   "source": [
    "data = pd.read_csv(file_path_list[0],skiprows=8, sep='\\t')"
   ]
  },
  {
   "cell_type": "code",
   "execution_count": 16,
   "id": "084b48f4",
   "metadata": {},
   "outputs": [
    {
     "data": {
      "text/html": [
       "<div>\n",
       "<style scoped>\n",
       "    .dataframe tbody tr th:only-of-type {\n",
       "        vertical-align: middle;\n",
       "    }\n",
       "\n",
       "    .dataframe tbody tr th {\n",
       "        vertical-align: top;\n",
       "    }\n",
       "\n",
       "    .dataframe thead th {\n",
       "        text-align: right;\n",
       "    }\n",
       "</style>\n",
       "<table border=\"1\" class=\"dataframe\">\n",
       "  <thead>\n",
       "    <tr style=\"text-align: right;\">\n",
       "      <th></th>\n",
       "      <th>x</th>\n",
       "      <th>y</th>\n",
       "      <th>x (pix)</th>\n",
       "      <th>y (pix)</th>\n",
       "      <th>x (mm)</th>\n",
       "      <th>y (mm)</th>\n",
       "      <th>U pix</th>\n",
       "      <th>V pix</th>\n",
       "      <th>U</th>\n",
       "      <th>V</th>\n",
       "      <th>Length</th>\n",
       "      <th>Status</th>\n",
       "    </tr>\n",
       "  </thead>\n",
       "  <tbody>\n",
       "    <tr>\n",
       "      <th>0</th>\n",
       "      <td>0</td>\n",
       "      <td>0</td>\n",
       "      <td>127.5</td>\n",
       "      <td>3.5</td>\n",
       "      <td>127.5</td>\n",
       "      <td>3.5</td>\n",
       "      <td>0.000000</td>\n",
       "      <td>0.000000</td>\n",
       "      <td>0.000000</td>\n",
       "      <td>0.000000</td>\n",
       "      <td>0.000000</td>\n",
       "      <td>16</td>\n",
       "    </tr>\n",
       "    <tr>\n",
       "      <th>1</th>\n",
       "      <td>0</td>\n",
       "      <td>1</td>\n",
       "      <td>127.5</td>\n",
       "      <td>7.5</td>\n",
       "      <td>127.5</td>\n",
       "      <td>7.5</td>\n",
       "      <td>0.000000</td>\n",
       "      <td>0.000000</td>\n",
       "      <td>0.000000</td>\n",
       "      <td>0.000000</td>\n",
       "      <td>0.000000</td>\n",
       "      <td>16</td>\n",
       "    </tr>\n",
       "    <tr>\n",
       "      <th>2</th>\n",
       "      <td>0</td>\n",
       "      <td>2</td>\n",
       "      <td>127.5</td>\n",
       "      <td>11.5</td>\n",
       "      <td>127.5</td>\n",
       "      <td>11.5</td>\n",
       "      <td>0.000000</td>\n",
       "      <td>0.000000</td>\n",
       "      <td>0.000000</td>\n",
       "      <td>0.000000</td>\n",
       "      <td>0.000000</td>\n",
       "      <td>16</td>\n",
       "    </tr>\n",
       "    <tr>\n",
       "      <th>3</th>\n",
       "      <td>0</td>\n",
       "      <td>3</td>\n",
       "      <td>127.5</td>\n",
       "      <td>15.5</td>\n",
       "      <td>127.5</td>\n",
       "      <td>15.5</td>\n",
       "      <td>0.000000</td>\n",
       "      <td>0.000000</td>\n",
       "      <td>0.000000</td>\n",
       "      <td>0.000000</td>\n",
       "      <td>0.000000</td>\n",
       "      <td>16</td>\n",
       "    </tr>\n",
       "    <tr>\n",
       "      <th>4</th>\n",
       "      <td>0</td>\n",
       "      <td>4</td>\n",
       "      <td>127.5</td>\n",
       "      <td>19.5</td>\n",
       "      <td>127.5</td>\n",
       "      <td>19.5</td>\n",
       "      <td>0.000000</td>\n",
       "      <td>0.000000</td>\n",
       "      <td>0.000000</td>\n",
       "      <td>0.000000</td>\n",
       "      <td>0.000000</td>\n",
       "      <td>16</td>\n",
       "    </tr>\n",
       "    <tr>\n",
       "      <th>...</th>\n",
       "      <td>...</td>\n",
       "      <td>...</td>\n",
       "      <td>...</td>\n",
       "      <td>...</td>\n",
       "      <td>...</td>\n",
       "      <td>...</td>\n",
       "      <td>...</td>\n",
       "      <td>...</td>\n",
       "      <td>...</td>\n",
       "      <td>...</td>\n",
       "      <td>...</td>\n",
       "      <td>...</td>\n",
       "    </tr>\n",
       "    <tr>\n",
       "      <th>7039</th>\n",
       "      <td>11</td>\n",
       "      <td>582</td>\n",
       "      <td>1535.5</td>\n",
       "      <td>2331.5</td>\n",
       "      <td>1535.5</td>\n",
       "      <td>2331.5</td>\n",
       "      <td>23.992105</td>\n",
       "      <td>-0.044771</td>\n",
       "      <td>23.992105</td>\n",
       "      <td>-0.044771</td>\n",
       "      <td>23.992147</td>\n",
       "      <td>0</td>\n",
       "    </tr>\n",
       "    <tr>\n",
       "      <th>7040</th>\n",
       "      <td>11</td>\n",
       "      <td>583</td>\n",
       "      <td>1535.5</td>\n",
       "      <td>2335.5</td>\n",
       "      <td>1535.5</td>\n",
       "      <td>2335.5</td>\n",
       "      <td>23.968718</td>\n",
       "      <td>-0.027021</td>\n",
       "      <td>23.968718</td>\n",
       "      <td>-0.027021</td>\n",
       "      <td>23.968733</td>\n",
       "      <td>0</td>\n",
       "    </tr>\n",
       "    <tr>\n",
       "      <th>7041</th>\n",
       "      <td>11</td>\n",
       "      <td>584</td>\n",
       "      <td>1535.5</td>\n",
       "      <td>2339.5</td>\n",
       "      <td>1535.5</td>\n",
       "      <td>2339.5</td>\n",
       "      <td>23.969381</td>\n",
       "      <td>-0.044444</td>\n",
       "      <td>23.969381</td>\n",
       "      <td>-0.044444</td>\n",
       "      <td>23.969423</td>\n",
       "      <td>0</td>\n",
       "    </tr>\n",
       "    <tr>\n",
       "      <th>7042</th>\n",
       "      <td>11</td>\n",
       "      <td>585</td>\n",
       "      <td>1535.5</td>\n",
       "      <td>2343.5</td>\n",
       "      <td>1535.5</td>\n",
       "      <td>2343.5</td>\n",
       "      <td>23.980515</td>\n",
       "      <td>-0.055961</td>\n",
       "      <td>23.980515</td>\n",
       "      <td>-0.055961</td>\n",
       "      <td>23.980580</td>\n",
       "      <td>0</td>\n",
       "    </tr>\n",
       "    <tr>\n",
       "      <th>7043</th>\n",
       "      <td>11</td>\n",
       "      <td>586</td>\n",
       "      <td>1535.5</td>\n",
       "      <td>2347.5</td>\n",
       "      <td>1535.5</td>\n",
       "      <td>2347.5</td>\n",
       "      <td>23.965477</td>\n",
       "      <td>-0.065911</td>\n",
       "      <td>23.965477</td>\n",
       "      <td>-0.065911</td>\n",
       "      <td>23.965568</td>\n",
       "      <td>0</td>\n",
       "    </tr>\n",
       "  </tbody>\n",
       "</table>\n",
       "<p>7044 rows × 12 columns</p>\n",
       "</div>"
      ],
      "text/plain": [
       "       x    y  x (pix)  y (pix)  x (mm)  y (mm)      U pix     V pix  \\\n",
       "0      0    0    127.5      3.5   127.5     3.5   0.000000  0.000000   \n",
       "1      0    1    127.5      7.5   127.5     7.5   0.000000  0.000000   \n",
       "2      0    2    127.5     11.5   127.5    11.5   0.000000  0.000000   \n",
       "3      0    3    127.5     15.5   127.5    15.5   0.000000  0.000000   \n",
       "4      0    4    127.5     19.5   127.5    19.5   0.000000  0.000000   \n",
       "...   ..  ...      ...      ...     ...     ...        ...       ...   \n",
       "7039  11  582   1535.5   2331.5  1535.5  2331.5  23.992105 -0.044771   \n",
       "7040  11  583   1535.5   2335.5  1535.5  2335.5  23.968718 -0.027021   \n",
       "7041  11  584   1535.5   2339.5  1535.5  2339.5  23.969381 -0.044444   \n",
       "7042  11  585   1535.5   2343.5  1535.5  2343.5  23.980515 -0.055961   \n",
       "7043  11  586   1535.5   2347.5  1535.5  2347.5  23.965477 -0.065911   \n",
       "\n",
       "              U         V     Length  Status  \n",
       "0      0.000000  0.000000   0.000000      16  \n",
       "1      0.000000  0.000000   0.000000      16  \n",
       "2      0.000000  0.000000   0.000000      16  \n",
       "3      0.000000  0.000000   0.000000      16  \n",
       "4      0.000000  0.000000   0.000000      16  \n",
       "...         ...       ...        ...     ...  \n",
       "7039  23.992105 -0.044771  23.992147       0  \n",
       "7040  23.968718 -0.027021  23.968733       0  \n",
       "7041  23.969381 -0.044444  23.969423       0  \n",
       "7042  23.980515 -0.055961  23.980580       0  \n",
       "7043  23.965477 -0.065911  23.965568       0  \n",
       "\n",
       "[7044 rows x 12 columns]"
      ]
     },
     "execution_count": 16,
     "metadata": {},
     "output_type": "execute_result"
    }
   ],
   "source": [
    "data"
   ]
  },
  {
   "cell_type": "code",
   "execution_count": 37,
   "id": "317a191f",
   "metadata": {},
   "outputs": [],
   "source": [
    "xx = data.x.to_numpy()\n",
    "yy = data.y.to_numpy()\n",
    "uu = data.U.to_numpy()\n",
    "vv = data.V.to_numpy()"
   ]
  },
  {
   "cell_type": "code",
   "execution_count": 45,
   "id": "24829407",
   "metadata": {},
   "outputs": [
    {
     "data": {
      "text/plain": [
       "11"
      ]
     },
     "execution_count": 45,
     "metadata": {},
     "output_type": "execute_result"
    }
   ],
   "source": [
    "max(xx)"
   ]
  },
  {
   "cell_type": "code",
   "execution_count": 46,
   "id": "82237676",
   "metadata": {},
   "outputs": [
    {
     "data": {
      "text/plain": [
       "586"
      ]
     },
     "execution_count": 46,
     "metadata": {},
     "output_type": "execute_result"
    }
   ],
   "source": [
    "max(yy)"
   ]
  },
  {
   "cell_type": "code",
   "execution_count": null,
   "id": "4e55bda1",
   "metadata": {},
   "outputs": [],
   "source": [
    "plt.figure(figsize=(2,10))\n",
    "plt.quiver(xx,yy,uu,vv)\n",
    "plt.show()"
   ]
  },
  {
   "cell_type": "code",
   "execution_count": 17,
   "id": "ad016f42",
   "metadata": {},
   "outputs": [],
   "source": [
    "ham =pd.concat([data, data])"
   ]
  },
  {
   "cell_type": "code",
   "execution_count": 19,
   "id": "f1cafd39",
   "metadata": {},
   "outputs": [
    {
     "data": {
      "text/plain": [
       "(14088, 12)"
      ]
     },
     "execution_count": 19,
     "metadata": {},
     "output_type": "execute_result"
    }
   ],
   "source": [
    "ham.shape"
   ]
  },
  {
   "cell_type": "code",
   "execution_count": 25,
   "id": "b2be5bb5",
   "metadata": {},
   "outputs": [
    {
     "data": {
      "text/plain": [
       "x            int64\n",
       "y            int64\n",
       "x (pix)    float64\n",
       "y (pix)    float64\n",
       "x (mm)     float64\n",
       "y (mm)     float64\n",
       "U pix      float64\n",
       "V pix      float64\n",
       "U          float64\n",
       "V          float64\n",
       "Length     float64\n",
       "Status       int64\n",
       "dtype: object"
      ]
     },
     "execution_count": 25,
     "metadata": {},
     "output_type": "execute_result"
    }
   ],
   "source": [
    "ham.dtypes"
   ]
  },
  {
   "cell_type": "code",
   "execution_count": 21,
   "id": "32e866c6",
   "metadata": {},
   "outputs": [],
   "source": [
    "zzang = ham.to_numpy()"
   ]
  },
  {
   "cell_type": "code",
   "execution_count": 22,
   "id": "7737e1fa",
   "metadata": {},
   "outputs": [
    {
     "data": {
      "text/plain": [
       "array([[ 0.00000000e+00,  0.00000000e+00,  1.27500000e+02, ...,\n",
       "         0.00000000e+00,  0.00000000e+00,  1.60000000e+01],\n",
       "       [ 0.00000000e+00,  1.00000000e+00,  1.27500000e+02, ...,\n",
       "         0.00000000e+00,  0.00000000e+00,  1.60000000e+01],\n",
       "       [ 0.00000000e+00,  2.00000000e+00,  1.27500000e+02, ...,\n",
       "         0.00000000e+00,  0.00000000e+00,  1.60000000e+01],\n",
       "       ...,\n",
       "       [ 1.10000000e+01,  5.84000000e+02,  1.53550000e+03, ...,\n",
       "        -4.44442220e-02,  2.39694225e+01,  0.00000000e+00],\n",
       "       [ 1.10000000e+01,  5.85000000e+02,  1.53550000e+03, ...,\n",
       "        -5.59605137e-02,  2.39805798e+01,  0.00000000e+00],\n",
       "       [ 1.10000000e+01,  5.86000000e+02,  1.53550000e+03, ...,\n",
       "        -6.59113601e-02,  2.39655676e+01,  0.00000000e+00]])"
      ]
     },
     "execution_count": 22,
     "metadata": {},
     "output_type": "execute_result"
    }
   ],
   "source": [
    "zzang"
   ]
  },
  {
   "cell_type": "code",
   "execution_count": null,
   "id": "75464767",
   "metadata": {},
   "outputs": [],
   "source": [
    "plt.quiver()"
   ]
  },
  {
   "cell_type": "code",
   "execution_count": 31,
   "id": "2fc4263a",
   "metadata": {},
   "outputs": [
    {
     "name": "stdout",
     "output_type": "stream",
     "text": [
      "(10, 10)\n",
      "(10, 10)\n",
      "(10, 10)\n",
      "(10, 10)\n"
     ]
    }
   ],
   "source": [
    "print(x.shape)\n",
    "print(y.shape)\n",
    "print(u.shape)\n",
    "print(v.shape)"
   ]
  },
  {
   "cell_type": "code",
   "execution_count": null,
   "id": "c12d9482",
   "metadata": {},
   "outputs": [],
   "source": []
  },
  {
   "cell_type": "code",
   "execution_count": 28,
   "id": "5ae97261",
   "metadata": {},
   "outputs": [
    {
     "name": "stdout",
     "output_type": "stream",
     "text": [
      "[[0.  0.  0.  0.  0.  0.  0.  0.  0.  0. ]\n",
      " [0.1 0.1 0.1 0.1 0.1 0.1 0.1 0.1 0.1 0.1]\n",
      " [0.2 0.2 0.2 0.2 0.2 0.2 0.2 0.2 0.2 0.2]\n",
      " [0.3 0.3 0.3 0.3 0.3 0.3 0.3 0.3 0.3 0.3]\n",
      " [0.4 0.4 0.4 0.4 0.4 0.4 0.4 0.4 0.4 0.4]\n",
      " [0.5 0.5 0.5 0.5 0.5 0.5 0.5 0.5 0.5 0.5]\n",
      " [0.6 0.6 0.6 0.6 0.6 0.6 0.6 0.6 0.6 0.6]\n",
      " [0.7 0.7 0.7 0.7 0.7 0.7 0.7 0.7 0.7 0.7]\n",
      " [0.8 0.8 0.8 0.8 0.8 0.8 0.8 0.8 0.8 0.8]\n",
      " [0.9 0.9 0.9 0.9 0.9 0.9 0.9 0.9 0.9 0.9]] [[0.  0.1 0.2 0.3 0.4 0.5 0.6 0.7 0.8 0.9]\n",
      " [0.  0.1 0.2 0.3 0.4 0.5 0.6 0.7 0.8 0.9]\n",
      " [0.  0.1 0.2 0.3 0.4 0.5 0.6 0.7 0.8 0.9]\n",
      " [0.  0.1 0.2 0.3 0.4 0.5 0.6 0.7 0.8 0.9]\n",
      " [0.  0.1 0.2 0.3 0.4 0.5 0.6 0.7 0.8 0.9]\n",
      " [0.  0.1 0.2 0.3 0.4 0.5 0.6 0.7 0.8 0.9]\n",
      " [0.  0.1 0.2 0.3 0.4 0.5 0.6 0.7 0.8 0.9]\n",
      " [0.  0.1 0.2 0.3 0.4 0.5 0.6 0.7 0.8 0.9]\n",
      " [0.  0.1 0.2 0.3 0.4 0.5 0.6 0.7 0.8 0.9]\n",
      " [0.  0.1 0.2 0.3 0.4 0.5 0.6 0.7 0.8 0.9]] [[0.  0.  0.  0.  0.  0.  0.  0.  0.  0. ]\n",
      " [0.2 0.2 0.2 0.2 0.2 0.2 0.2 0.2 0.2 0.2]\n",
      " [0.4 0.4 0.4 0.4 0.4 0.4 0.4 0.4 0.4 0.4]\n",
      " [0.6 0.6 0.6 0.6 0.6 0.6 0.6 0.6 0.6 0.6]\n",
      " [0.8 0.8 0.8 0.8 0.8 0.8 0.8 0.8 0.8 0.8]\n",
      " [1.  1.  1.  1.  1.  1.  1.  1.  1.  1. ]\n",
      " [1.2 1.2 1.2 1.2 1.2 1.2 1.2 1.2 1.2 1.2]\n",
      " [1.4 1.4 1.4 1.4 1.4 1.4 1.4 1.4 1.4 1.4]\n",
      " [1.6 1.6 1.6 1.6 1.6 1.6 1.6 1.6 1.6 1.6]\n",
      " [1.8 1.8 1.8 1.8 1.8 1.8 1.8 1.8 1.8 1.8]] [[0.  0.2 0.4 0.6 0.8 1.  1.2 1.4 1.6 1.8]\n",
      " [0.  0.2 0.4 0.6 0.8 1.  1.2 1.4 1.6 1.8]\n",
      " [0.  0.2 0.4 0.6 0.8 1.  1.2 1.4 1.6 1.8]\n",
      " [0.  0.2 0.4 0.6 0.8 1.  1.2 1.4 1.6 1.8]\n",
      " [0.  0.2 0.4 0.6 0.8 1.  1.2 1.4 1.6 1.8]\n",
      " [0.  0.2 0.4 0.6 0.8 1.  1.2 1.4 1.6 1.8]\n",
      " [0.  0.2 0.4 0.6 0.8 1.  1.2 1.4 1.6 1.8]\n",
      " [0.  0.2 0.4 0.6 0.8 1.  1.2 1.4 1.6 1.8]\n",
      " [0.  0.2 0.4 0.6 0.8 1.  1.2 1.4 1.6 1.8]\n",
      " [0.  0.2 0.4 0.6 0.8 1.  1.2 1.4 1.6 1.8]]\n"
     ]
    },
    {
     "data": {
      "image/png": "[encoded data removed]",
      "text/plain": [
       "<Figure size 432x288 with 1 Axes>"
      ]
     },
     "metadata": {
      "needs_background": "light"
     },
     "output_type": "display_data"
    }
   ],
   "source": [
    "import matplotlib.pyplot as plt\n",
    "\n",
    "import numpy as np\n",
    "\n",
    "\n",
    "\n",
    "x = np.empty((10,10), float)\n",
    "\n",
    "y = np.empty((10,10), float)\n",
    "\n",
    "\n",
    "\n",
    "u = np.empty((10,10), float)\n",
    "\n",
    "v = np.empty((10,10), float)\n",
    "\n",
    "\n",
    "\n",
    "for i in range(10):\n",
    "\n",
    "    for j in range(10):\n",
    "\n",
    "        x[i][j] =  i / 10.0\n",
    "\n",
    "        y[i][j] =  j / 10.0\n",
    "\n",
    "        u[i][j] =  i / 10 * 2 \n",
    "\n",
    "        v[i][j] =  j / 10 * 2\n",
    "\n",
    "\n",
    "\n",
    "print(x, y, u, v)\n",
    "\n",
    "\n",
    "\n",
    "plt.quiver(x,y,u,v, angles='xy', pivot='middle')\n",
    "\n",
    "plt.ylim(0,1.1)\n",
    "\n",
    "plt.xlim(0,1.1)\n",
    "\n",
    "plt.grid('on')\n",
    "\n",
    "plt.show()\n"
   ]
  },
  {
   "cell_type": "code",
   "execution_count": null,
   "id": "5725e56f",
   "metadata": {},
   "outputs": [],
   "source": []
  }
 ],
 "metadata": {
  "kernelspec": {
   "display_name": "Python 3 (Notebook)",
   "language": "python",
   "name": "python3"
  },
  "language_info": {
   "codemirror_mode": {
    "name": "ipython",
    "version": 3
   },
   "file_extension": ".py",
   "mimetype": "text/x-python",
   "name": "python",
   "nbconvert_exporter": "python",
   "pygments_lexer": "ipython3",
   "version": "3.8.10"
  }
 },
 "nbformat": 4,
 "nbformat_minor": 5
}
